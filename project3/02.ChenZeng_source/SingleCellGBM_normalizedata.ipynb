{
 "cells": [
  {
   "cell_type": "code",
   "execution_count": 1,
   "metadata": {
    "collapsed": true
   },
   "outputs": [],
   "source": [
    "import numpy as np\n",
    "import pandas as pd\n",
    "import matplotlib\n",
    "import matplotlib.pyplot as plt\n",
    "import seaborn as sns\n",
    "from sklearn.decomposition import PCA\n",
    "%matplotlib inline"
   ]
  },
  {
   "cell_type": "code",
   "execution_count": 2,
   "metadata": {
    "collapsed": true
   },
   "outputs": [],
   "source": [
    "# preprocess data, load read count, do normalization\n",
    "A = pd.read_table('RC.txt', header=None)\n",
    "\n",
    "# normalizing the read counts into TPM (transcript per million)\n",
    "TotalRead = A.sum()\n",
    "A_TPM = np.zeros_like(A)\n",
    "\n",
    "for i in range(1,A.shape[1]):\n",
    "    A_TPM[:,i] = A.iloc[:,i]*1000000000 / TotalRead[i] \n",
    "A_TPM[:,0]=A.iloc[:,0]\n",
    "\n",
    "#np.savetxt('TPM.txt', A_TPM[:,1:], delimiter='\\t', fmt='%1.3f')"
   ]
  },
  {
   "cell_type": "code",
   "execution_count": 3,
   "metadata": {},
   "outputs": [],
   "source": [
    "# after annotating the normalized TPM matrix, load in data and annotations of GBM9, for differential gene expression analysis\n",
    "gbm = pd.read_table('GBM9.sc.txt')\n",
    "\n",
    "s1 = gbm.iloc[:,1:30]\n",
    "s2 = gbm.iloc[:,30:90]\n",
    "s3 = gbm.iloc[:,90:]"
   ]
  },
  {
   "cell_type": "code",
   "execution_count": 4,
   "metadata": {
    "collapsed": true
   },
   "outputs": [],
   "source": [
    "# assign individual cells to three different tumors\n",
    "name = [1,1,1,1,1,1,1,1,1,1,1,1,1,1,1,1,1,1,1,1,1,1,1,1,1,1,1,1,1,2,2,2,2,2,2,2,2,2,2,2,2,2,2,2,2,2,2,2,2,2,2,2,2,2,2,2,2,2,2,2,2,2,2,2,2,2,2,2,2,2,2,2,2,2,2,2,2,2,2,2,2,2,2,2,2,2,2,2,2,3,3,3,3,3,3,3,3,3,3,3,3,3,3,3,3,3,3,3,3,3,3,3,3,3,3,3,3,3,3,3,3,3,3,3,3,3,3,3,3,3,3,3,3]"
   ]
  },
  {
   "cell_type": "code",
   "execution_count": 11,
   "metadata": {},
   "outputs": [
    {
     "name": "stdout",
     "output_type": "stream",
     "text": [
      "Progress: 0 out of 56638\n",
      "Progress: 10000 out of 56638\n",
      "Progress: 20000 out of 56638\n",
      "Progress: 30000 out of 56638\n",
      "Progress: 40000 out of 56638\n",
      "Progress: 50000 out of 56638\n",
      "Progress: 0 out of 56638\n",
      "Progress: 10000 out of 56638\n",
      "Progress: 20000 out of 56638\n",
      "Progress: 30000 out of 56638\n",
      "Progress: 40000 out of 56638\n",
      "Progress: 50000 out of 56638\n"
     ]
    }
   ],
   "source": [
    "# compare each two groups of single cells for differential gene expression (ranksum's test)\n",
    "from scipy.stats import ranksums\n",
    "import xlsxwriter \n",
    "\n",
    "shape = gbm.shape[0]\n",
    "workbook = xlsxwriter.Workbook(\"S1_S2.ranksums.xlsx\")\n",
    "worksheet = workbook.add_worksheet()\n",
    "row = 0\n",
    "s12 = []\n",
    "for i in range(shape):\n",
    "    gene = gbm.iloc[i,0]\n",
    "    s,p = ranksums(s1.iloc[i,:], s2.iloc[i,:])\n",
    "    if p < 0.01:\n",
    "        s12.append(gene)\n",
    "        worksheet.write(row, 0, gene)\n",
    "        worksheet.write(row, 1, s)\n",
    "        worksheet.write(row, 2, p)\n",
    "        row += 1\n",
    "    if i % 10000 == 0:\n",
    "        print (\"Progress:\", i, \"out of\", shape)\n",
    "workbook.close() \n",
    "\n",
    "workbook = xlsxwriter.Workbook(\"S1_S3.ranksums.xlsx\")\n",
    "worksheet = workbook.add_worksheet()\n",
    "row = 0\n",
    "s13 = []\n",
    "for i in range(shape):\n",
    "    gene = gbm.iloc[i,0]\n",
    "    s,p = ranksums(s1.iloc[i,:], s3.iloc[i,:])\n",
    "    if p < 0.01:\n",
    "        s13.append(gene)\n",
    "        worksheet.write(row, 0, gene)\n",
    "        worksheet.write(row, 1, s)\n",
    "        worksheet.write(row, 2, p)\n",
    "        row += 1\n",
    "    if i % 10000 == 0:\n",
    "        print (\"Progress:\", i, \"out of\", shape)\n",
    "workbook.close() "
   ]
  },
  {
   "cell_type": "code",
   "execution_count": 20,
   "metadata": {},
   "outputs": [
    {
     "data": {
      "text/plain": [
       "<matplotlib_venn._common.VennDiagram at 0x1a21dbdb38>"
      ]
     },
     "execution_count": 20,
     "metadata": {},
     "output_type": "execute_result"
    },
    {
     "data": {
      "image/png": "[encoded data removed]",
      "text/plain": [
       "<matplotlib.figure.Figure at 0x1a1c910978>"
      ]
     },
     "metadata": {},
     "output_type": "display_data"
    }
   ],
   "source": [
    "from matplotlib_venn import venn2\n",
    "\n",
    "same = len(set(s12)&set(s13))\n",
    "uniq_1 = len(set(s12)-set(s13))\n",
    "uniq_2 = len(set(s13)-set(s12))\n",
    "\n",
    "venn2(subsets = (same, uniq_1, uniq_2))"
   ]
  },
  {
   "cell_type": "code",
   "execution_count": 22,
   "metadata": {},
   "outputs": [
    {
     "name": "stdout",
     "output_type": "stream",
     "text": [
      "{'ATP10A', 'RABL5', 'CAPZB', 'NDUFB1', 'MFSD2A', 'PSMC4', 'LHFP', 'DHRS7', 'UNC80', 'ZNF841', 'TNFRSF19', 'NDUFB7', 'CUL5', 'RPL24P4', 'RPL7P23', 'SMG5', 'RPL18A', 'C9orf152', 'CUL3', 'C18orf25', 'RP11-673C5.1', 'EIF4G1', 'HDAC9', 'LYSMD1', 'FTSJ3', 'EPB41L5', 'USP15', 'GNG5', 'MIR22HG', 'PFN1', 'LINC01128', 'NAMPT', 'IGSF11', 'PCDH17', 'MMP1', 'TMEM14A', 'CD44', 'M6PR', 'UBBP4', 'STOM', 'ZFYVE26', 'VPS53', 'NOL3', 'PRRC2C', 'RPL8', 'ZNF254', 'B4GALT1', 'IFIT5', 'PSMA2', 'WDR43', 'TMCO3', 'S1PR3', 'CS', 'QKI', 'PLSCR1', 'UGCG', 'WTAP', 'RP11-425L10.1', 'NR2C2', 'EPT1', 'ATP13A3', 'TBCAP1', 'TNFAIP3', 'RP11-48B3.4', 'HIVEP2', 'EDEM1', 'FABP5P11', 'DMWD', 'GPC6', 'TCHP', 'EIF6', 'C3orf17', 'CD82', 'BTBD3', 'TNKS2', 'C6orf62', 'SLITRK2', 'RASAL2', 'RP11-798M19.6', 'EIF3K', 'FBN2', 'NFE2L3', 'PFN1P1', 'DDX58', 'COLGALT2', 'IFI44', 'MAPK1IP1L', 'SATB2', 'AC007969.5', 'CHCHD2P2', 'DDX3X', 'EEF1A1P5', 'MPRIP', 'CPNE8', 'RPL37A', 'CNR1', 'LRRTM4', 'DYNLL1', 'ARSB', 'WDR75', 'RPL5P4', 'FAM103A2P', 'TAB3', 'FOSL1', 'PRKAA1', 'CLASP2', 'NKAIN4', 'MRPS12', 'CDC37', 'ESD', 'S100B', 'FNBP1', 'PPIB', 'TPT1', 'METTL7A', 'RP11-75L1.2', 'RPL7P6', 'RPS3AP6', 'RPL9P7', 'KPNA6', 'IPO7', 'CHST2', 'BEX4', 'TNFAIP8', 'TRIM21', 'ATIC', 'CTSS', 'RP11-366M4.1', 'RP11-1035H13.2', 'KIAA0247', 'UBFD1', 'FAM214A', 'GLT8D1', 'NUDT19', 'ATP6V0E2', 'UBE2Q2P6', 'GPATCH4', 'GNPNAT1', 'CACUL1', 'GAS7', 'ZNF518B', 'GTF2E2', 'RSBN1L-AS1', 'SLC25A46', 'TXNDC9', 'FAM162A', 'FAM129A', 'ACTN4', 'FDFT1', 'RBM8A', 'RPL5P1', 'ELL2', 'ITGAV', 'SYNCRIP', 'POLR1C', 'HNRNPA1P41', 'IRAK2', 'HIVEP1', 'MTPAP', 'SEC61G', 'RNU1-60P', 'SELT', 'EIF2AK2', 'RIF1', 'NDUFB5', 'KLHDC8A', 'HNRNPAB', 'KCNJ14', 'ATG12', 'A2M', 'RP11-864N7.2', 'DBI', 'ZNF568', 'DPY19L2P2', 'RPS7', 'PICALM', 'CHCHD2', 'RP11-446E9.1', 'RPS23P8', 'RP1-99E18.2', 'RBM18', 'RPL7AP6', 'GART', 'WSB1', 'NPTXR', 'PFDN1', 'HEG1', 'PNP', 'NAP1L1', 'RPL21P119', 'RERE', 'COX7B', 'RP1-68D18.4', 'NT5E', 'RP11-613M5.2', 'PXN', 'RNPS1', 'TCEAL7', 'BAIAP2-AS1', 'IGF2R', 'GDAP2', 'LYPLAL1', 'IDS', 'ABHD4', 'KIAA0020', 'CDV3', 'LRP8', 'PSMB6', 'SRP72', 'CTC-451P13.1', 'PTPN2P1', 'DAP3', 'RP11-469M7.1', 'SLC25A27', 'RP11-196G18.22', 'TMEM161B-AS1', 'MRPS11', 'PSMD11', 'PAPPA', 'TMEM70', 'MLLT6', 'SLC25A37', 'RP11-20O24.4', 'RPL36AL', 'HMGA1', 'HIST2H4B', 'PITPNA', 'IL1B', 'PAFAH1B2', 'RPL32', 'PABPC1', 'TNFAIP6', 'RPL9', 'TM9SF4', 'POLR2C', 'PARP12', 'RAB18', 'ARHGEF7', 'SLC7A11', 'FABP5P2', 'RPL4P5', 'EXOC1', 'ANK2', 'DPF2', 'TRIP4', 'CD2AP', 'SNX9', 'MCF2L', 'ST3GAL1', 'ELK4', 'AC010761.8', 'LPP', 'LYRM4', 'KIAA0895', 'FKBP11', 'MGLL', 'RPL5P34', 'ARID4A', 'RP11-16F15.2', 'CALM2', 'MAP2K3', 'RIMS2', 'ABI1', 'RP11-492M23.2', 'BNIP3L', 'RP3-437C15.1', 'VIMP', 'HINT1', 'RP11-603J24.7', 'DDX60L', 'MAPT', 'WDR35', 'KDM5B', 'C12orf79', 'PHF14', 'RP11-138A9.2', 'MAP4K5', 'IFIT3', 'MRFAP1', 'DRAM1', 'HAS2', 'RICTOR', 'PXDN', 'CBX4', 'UBOX5', 'SNRPD1', 'TMEM50A', 'EGLN1', 'RABAC1', 'SPATA6', 'RPS11', 'ZNF583', 'NFKBIZ', 'CSF3', 'SKA3', 'HSDL2', 'SNRPF', 'ZNF587', 'SLC43A2', 'MEG3', 'CFLAR', 'PDE10A', 'TSPAN5', 'H3F3B', 'RUNX1', 'PPIF', 'GBP4', 'PRKACB', 'HERC5', 'PPIL1', 'ITCH', 'R3HCC1', 'ITGA5', 'UBE2E2', 'PSMA4', 'DCP1A', 'SYMPK', 'PANX1', 'MIR4426', 'TNRC6B', 'RP11-333E13.2', 'DENND5A', 'ZNF677', 'ASAH1', 'CNOT1', 'IL8', 'VDAC1P2', 'SERPINE2', 'IGFBP3', 'LRRC8C', 'HNRNPA1P48', 'RELA', 'FAM32A', 'USP7', 'MRTO4', 'PMM2', 'ZNF124', 'C12orf5', 'CCDC117', 'LMO1', 'NPLOC4', 'PSMA1', 'CEP70', 'RNF19A', 'NAA60', 'GATAD2A', 'SMURF2', 'C3orf70', 'BFAR', 'RPL22L1', 'CCRN4L', 'RRP15', 'FBRS', 'NPTX1', 'CD47', 'EMC7', 'ARL8B', 'GBP3', 'RAP1B', 'SHC4', 'KAT2B', 'RPS19', 'NOL10', 'SMURF1', 'EIF4A1P2', 'NAF1', 'PEG10', 'TRIAP1', 'RPL21P75', 'TMSB10', 'PNKD', 'GON4L', 'ASNSD1', 'RPL21P39', 'MAP1A', 'NPM1P39', 'PFKFB3', 'RAD23B', 'SMARCD1', 'U2AF1L4', 'PA2G4P4', 'ALAS1', 'TDRD7', 'TGIF1', 'C12orf43', 'SP110', 'NPM1', 'ZNF713', 'PCDH9', 'ZMYND8', 'CCL3L1', 'EDA2R', 'RPL6P27', 'SAP30BP', 'CREB3', 'SEPW1', 'HTRA1', 'CLK1', 'DGAT1', 'LIF', 'EIF4B', 'IL32', 'ATP2B1', 'RAI14', 'DDIT3', 'LIG3', 'MAGI2', 'SRFBP1', 'RP11-343H5.4', 'CSNK2A2', 'CLCN3', 'GKAP1', 'GOSR2', 'YTHDF2', 'CCL3', 'ZNFX1', 'NPM1P6', 'UQCRFS1P1', 'SLC39A14', 'CD97', 'LRCH3', 'TUBA1A', 'CHGB', 'FOXO3', 'RPL5', 'LAMB4', 'MAPKBP1', 'UBE2Z', 'RELB', 'TOMM5', 'EIF4A1P10', 'HMGB1P5', 'TIPARP', 'SPTAN1', 'TRA2A', 'ATP5H', 'PSMA6P2', 'USP42', 'AP000936.1', 'FNBP1L', 'TSG101', 'LRRC59', 'CXADR', 'MRPL47', 'RPL7AP66', 'RPL7P9', 'NIPAL3', 'PSMC6', 'SATB1', 'GRIK2', 'EHBP1', 'WDR27', 'MRPL42', 'LDHA', 'ZNF75A', 'ZFR', 'PRRX1', 'UAP1L1', 'RPS7P1', 'PSME2', 'SNORD113-3', 'CSGALNACT1', 'AC016722.4', 'RPS14', 'CDK17', 'PARK7', 'CEBPB', 'RPL10AP6', 'TCF3', 'ARF1', 'ELL2P1', 'C8orf4', 'RPL7L1', 'TNFRSF1A', 'ZNF587B', 'THBS1', 'GOLGA8B', 'CTNNA1', 'GSAP', 'MT3', 'C19orf10', 'FAM200B', 'ZNF260', 'MRPS17', 'STC1', 'RPS7P11', 'POLR3D', 'AC007041.2', 'ZNF43', 'PER2', 'GABARAPL2', 'BRI3BP', 'ELK3', 'H3F3C', 'FAM208B', 'EEF1A1P13', 'SPRED1', 'NIFK', 'NVL', 'PTPRK', 'TIMM13', 'RP11-466P24.2', 'ATP5G2', 'C12orf76', 'NCBP2', 'SLC41A2', 'AC004744.3', 'FGF14', 'RPL7AP11', 'SCHIP1', 'AL162151.3', 'TXN', 'EYA3', 'IRF7', 'NAPA', 'TNFRSF10B', 'BTG2', 'RPL28', 'ZNF350', 'RPS27P29', 'HNRNPA1P54', 'PRRC2B', 'CLU', 'BAZ2B', 'DCTN5', 'PSMD8', 'SESN3', 'PTPN12', 'ALDH2', 'DSCR3', 'UHRF1BP1L', 'ALDOC', 'CTD-2369P2.2', 'CAPNS1', 'PDPK1', 'TAP1', 'ZNF121', 'OPA3', 'ZNF513', 'RP11-138A9.1', 'TXNRD1', 'CTSL', 'DNPEP', 'RP11-170M17.2', 'TSR1', 'MRPS35', 'PCNXL4', 'CCND1', 'CD63', 'IL7', 'NMI', 'CDKN1A', 'OPN1SW', 'LDLR', 'IFI27L2', 'ABL2', 'RP11-723P16.3', 'FMNL2', 'PDCD5', 'BCL2A1', 'DIXDC1', 'SQLE', 'LCA5', 'TAPBP', 'HIST2H2BE', 'ROCK1P1', 'NUCKS1', 'ANXA2P2', 'RP1-179N16.3', 'TRAK1', 'EML4', 'CKB', 'FABP5P7', 'P4HA1', 'ACOT9', 'ICAM1', 'CHMP5', 'CIAO1', 'NLGN3', 'STAT3', 'PBRM1', 'G6PD', 'TFG', 'YME1L1', 'PON2', 'MX1', 'KIAA0922', 'ADAMTS1', 'PRPF40A', 'CCDC53', 'PTCHD1', 'EIF2S3', 'UBE2W', 'KATNA1', 'ARPC2', 'IL33', 'RGMB', 'SRSF5', 'HIP1R', 'SHROOM2', 'MAP4K4', 'SLC39A7', 'AC010729.1', 'RBM8B', 'MPHOSPH8', 'MYD88', 'JUN', 'CEP95', 'USP18', 'ERLIN2', 'PTGS2', 'AC016831.7', 'INHBA', 'AC016708.2', 'GAS5', 'GNL2', 'TRIM25', 'DPH3', 'UBE2G2', 'SHOC2', 'SNHG16', 'RPS8', 'SMARCE1', 'CLSTN1', 'IER3IP1', 'DAXX', 'MTF2', 'FAM103A1', 'BZW1P2', 'RP11-274E7.2', 'TAF1B', 'ATP1B3', 'SPCS2', 'AC007050.17', 'JAM3', 'BACE2', 'HMGCR', 'RP4-775C13.1', 'SYNPO', 'HCCS', 'AC079250.1', 'SDC4', 'PSMB3', 'SMEK1', 'RP11-307L3.2', 'RPS10P3', 'HRK', 'RP11-347C12.2', 'CTD-2192J16.15', 'RPL13AP5', 'UQCRFS1', 'ABCC1', 'RBP1', 'TBK1', 'EIF4H', 'PLEKHA4', 'MTND4P12', 'ISG15', 'U2AF2', 'MIDN', 'C11orf48', 'AP006216.11', 'MYL12A', 'CWC27', 'RP11-345J4.8', 'RPL7P26', 'SYT11', 'SLC25A5', 'RND3', 'GCLM', 'RBM3', 'BID', 'GLRX', 'PSMC5', 'DGCR8', 'RP11-51O6.1', 'SSR4', 'CXXC4', 'PSMB7', 'RPL7P1', 'MT2A', 'PNPT1', 'TNFRSF12A', 'FNDC3B', 'SOD2', 'BRMS1', 'DHX33', 'SNRPEP4', 'SSR2', 'KIF21A', 'PSMA6', 'SEC14L2', 'DUSP6', 'PHACTR4', 'RPL36', 'SMG1P1', 'ANKRD36C', 'PSMB5', 'RPL12P4', 'NOTCH3', 'LSM12P1', 'CREB5', 'CXCL11', 'RPL7AP30', 'YWHAZP2', 'MRPL3', 'RPL27A', 'TMEM19', 'RP11-204C16.4', 'BANP', 'MTIF3', 'RPL9P8', 'PTPN2', 'RP11-572P18.1', 'RP11-336A10.2', 'SCG5', 'SLC37A3', 'EEF1A1P19', 'GAS2', 'ALDH6A1', 'NDUFA9', 'UPP1', 'ZFHX2', 'HES1', 'AC099522.2', 'BACH1', 'MATN2', 'PSMD2', 'ZNF253', 'ARNTL2', 'KDM1A', 'NDRG1', 'NEDD9', 'RPL13AP20', 'EFNB2', 'SLC38A6', 'TM4SF1', 'PLAUR', 'GRIK1', 'TTLL7', 'ECSIT', 'SLC38A1', 'FAM168A', 'G3BP1', 'NAV2', 'ZC3HAV1', 'SP100', 'SMAD3', 'SAMHD1', 'ILF2', 'FABP5P1', 'TFAM', 'RPLP0', 'PTPN13', 'DDX39A', 'ATF5', 'EEF1A1', 'PDCL3P5', 'DNAJC25', 'C1GALT1', 'RPS13', 'MX2', 'GBP5', 'IL27RA', 'FIGN', 'MRPS14', 'ACVR2A', 'HNRNPA1P7', 'EEF1A1P9', 'RBMS1', 'HELZ2', 'ZNF37BP', 'APEX1', 'TECRP1', 'ZNF682', 'RP11-443N24.1', 'CTB-52I2.4', 'CCL20', 'BZW1P1', 'ENO2', 'GMFB', 'MAMLD1', 'SYNJ2', 'DR1', 'APOBEC3C', 'DYNC1LI1', 'ATP11C', 'AC116366.6', 'TPP1', 'PABPC3', 'COL9A3', 'EFEMP2', 'RPL21P11', 'MAP3K1', 'EEF1A1P11', 'MLTK', 'CELF1', 'DCUN1D4', 'HIPK3', 'RAD23A', 'KCMF1', 'PSMA6P1', 'EIF5A', 'LINC00657', 'ROCK1', 'CRB1', 'USP36', 'TNIP1', 'ADD3', 'SLC39A9', 'HNRNPA1', 'STAT1', 'ZCCHC11', 'CDC123', 'ESRRG', 'PDCL3', 'GBP1P1', 'SCNM1', 'ATPIF1', 'RP11-37B2.1', 'COMMD6', 'RP11-159C21.4', 'FABP5', 'COL27A1', 'RPL13AP25', 'ERGIC3', 'LAMP1', 'ZSWIM4', 'SOGA1', 'CRYAB', 'ANGPTL2', 'TPM3', 'RBM28', 'RPL7P32', 'ADAR', 'SKIL', 'ZNF765', 'NQO1', 'ANXA7', 'PLK2', 'PTX3', 'ZBTB17', 'AL132709.5', 'IRGQ', 'CUX1', 'MARCH6', 'NAA15', 'MPV17', 'RP11-395B7.7', 'RP11-645C24.2', 'HM13', 'GSTA4', 'H3F3BP1', 'SPATA13', 'MECP2', 'NUB1', 'ITM2B', 'ANLN', 'AL390877.1', 'OSGIN2', 'ARC', 'TNFAIP2', 'CASC7', 'SLC35E1', 'UBIAD1', 'UBE2L6', 'IL1RN', 'FLAD1', 'NRBP1', 'EGR1', 'ACTL6A', 'CCL5', 'TMEM150C', 'L3MBTL4', 'PGD', 'SMARCE1P5', 'PYGL', 'COX6B1', 'IER3', 'PHC3', 'TCEB3', 'NSA2', 'NCAPD2', 'RP1-159M24.1', 'GOLT1B', 'AC004069.2', 'TMEM123', 'HBS1L', 'NOLC1', 'RPL12P38', 'TNFAIP1', 'TDG', 'ARPP21', 'MIR155HG', 'RPL3', 'BST2', 'OTUD4', 'CYB5D2', 'FMNL3', 'CTB-13F3.1', 'GADD45GIP1', 'PSME2P2', 'ARL5B', 'IGF1R', 'CREB1', 'ISG20', 'HMGB1P10', 'MIR29A', 'VKORC1', 'SGPL1', 'NEK1', 'DZIP3', 'HLA-H', 'RPL18', 'ADSL', 'LAP3', 'UACA', 'GAD1', 'ITGB1P1', 'RPL18AP3', 'TMED5', 'MED27', 'BCCIP', 'PML', 'GBP1', 'MYH9', 'CTC-512J14.5', 'NAALAD2', 'DAPK1', 'BOLA2B', 'CORO1C', 'SMG1', 'PNMAL1', 'SRP19', 'BMP2', 'MBNL2', 'PMEPA1', 'C19orf43', 'SLC44A2', 'IFI16', 'HIVEP3', 'ALK', 'MTHFD2', 'AGAP1', 'HNRNPA1P4', 'SLC25A6', 'IRF9', 'THSD1', 'UBE2H', 'ARCN1', 'BATF3', 'RTN3', 'XRCC5', 'PDK1', 'RPL27', 'USP41', 'BRD4', 'NF2', 'TMEM87A', 'LAMB2', 'MEIS1', 'SNRPD2', 'TAP2', 'SAR1B', 'WDR12', 'NAA25', 'ST3GAL6', 'RPS3AP26', 'NDUFAF2', 'ANKLE2', 'SEC61A1', 'RP6-42F4.1', 'IFIT1', 'ACPL2', 'AAED1', 'NGFRAP1', 'IFI44L', 'SURF4', 'C2orf80', 'RPS3A', 'HRH1', 'RPL21P28', 'CTD-2547E10.2', 'AFF3', 'ST7', 'NIP7', 'CHCHD2P9', 'KARS', 'EIF3I', 'SNORD12C', 'FXR1', 'RIPK2', 'TLN2', 'OSBPL1A', 'ZNF576', 'TOPBP1', 'ADAM19', 'ARF6', 'ZNF761', 'AAR2', 'EBNA1BP2', 'ZMYND11', 'KRAS', 'UBE2D3P1', 'PREX1', 'MOB3A', 'ASAP1', 'FOS', 'RP11-43D2.2', 'PRUNE2', 'TNFRSF1B', 'EML1', 'EHD1', 'HS3ST3B1', 'HMGB1', 'RP11-71N10.1', 'MPZL1', 'MCAM', 'SEC22B', 'UBE2N', 'RP11-203F10.6', 'RPL7A', 'RP4-706A16.3', 'SLC35B1', 'SOAT1', 'GNL3', 'RPS16', 'CLIP1', 'OAS3', 'IGFBP5', 'RPL21P134', 'AC092463.1', 'PCDH10', 'POLR2B', 'BCAT1', 'PPP1R9A', 'NFIX', 'PSMD12', 'USP31', 'UBE2V1P2', 'MEX3A', 'IFNGR2', 'RAB1A', 'ITGB1', 'HMGB1P1', 'TOMM70A', 'CTD-2314B22.3', 'SAMD9L', 'SEMA6A', 'COPB2', 'COLGALT1', 'MSN', 'SOCS3', 'AC010468.1', 'TNRC18', 'PDS5A', 'MYOF', 'ZNF395', 'TMEM66', 'GLIPR1', 'NRP1', 'DLG1', 'RPS15', 'AC091729.9', 'BBS4', 'RAB11A', 'SLC9B2', 'DACT1', 'STK40', 'PIM1', 'UTP11L', 'ZSCAN5A', 'YES1', 'CTNND2', 'BLVRA', 'SRPRB', 'SAT1', 'FAS', 'PIK3CB', 'RASSF8', 'MRPS24', 'RPL7AP31', 'IFI6', 'SVIL', 'TRAF1', 'TRIM22', 'CADM2', 'CMPK2', 'PSMA7', 'CTD-2017D11.1', 'VEZF1', 'CERS2', 'SCRG1', 'ZNF791', 'SYNE1', 'MDM2', 'TPM4', 'KPNB1', 'RSL1D1', 'CDC42SE2', 'HLA-B', 'DCAF13', 'PPP1R18', 'AMZ2P1', 'NINJ1', 'PSMB9', 'ARL4A', 'APOL6', 'AC009245.3', 'ARF4', 'AC005795.1', 'SH3D19', 'RAP2A', 'SCD5', 'MAU2', 'SUGT1', 'PSMB4', 'EEF1A1P4', 'NKX3-1', 'GEMIN7', 'DDX21', 'RPL7', 'LIFR', 'KIAA1191', 'CLIC1', 'AL132709.8', 'NRP2', 'AC015933.2', 'TIMM50', 'AL589743.1', 'UBB', 'GNB2L1', 'PITPNB', 'SHB', 'TET2', 'UBA2', 'BZW1', 'ATG7', 'CAP1P2', 'XRCC6', 'LYPLA1', 'ZNF267', 'RNF4', 'GNAS', 'LZIC', 'SLC39A8', 'SORT1', 'TXLNA', 'TANK', 'NDFIP1', 'RP11-408P14.1', 'RP13-585F24.1', 'SGCE', 'ETS1', 'S100A6', 'GALNT2', 'HMGCS1', 'N4BP1', 'CD59', 'AC093698.2', 'SLC22A17', 'GLUL', 'MAK16', 'SEC61B', 'MAPRE2', 'TXNIP', 'COL11A1', 'IFIH1', 'CRK', 'SVIP', 'KEAP1', 'RNFT2', 'MED10', 'WDFY1', 'CNTN1', 'HEATR1', 'SLAIN1', 'NOP10', 'CD274', 'ARHGAP31', 'LUCAT1', 'RSAD2', 'MFAP3L', 'RPGR', 'TPST1', 'CAT', 'NSFL1C', 'NLRC5', 'SAMD9', 'SPTBN1', 'AAMDC', 'CACNA2D1', 'MYO6', 'RP11-734J24.1', 'SET', 'OCIAD2', 'XAF1', 'RAN', 'OLIG1', 'RP11-79H23.3', 'AC007362.1', 'CARS', 'ZNF552', 'WARS', 'NAPG', 'FOXP1', 'BAZ1A', 'JARID2', 'EEF1A1P12', 'TOP1', 'C11orf49', 'SEC23B', 'CYP1B1', 'EIF2S1', 'HNRNPA1P10', 'RPS3AP47', 'SPARC', 'GPM6B', 'RPS6KB1', 'KMT2B', 'BBS2', 'RBMXP2', 'FBXO25', 'TOMM7', 'URI1', 'PHKG2', 'TBC1D9', 'MORC3', 'BIRC2', 'ZNF615', 'USE1', 'GRWD1', 'CEBPD', 'PSMB8', 'PDZRN3', 'ETV3', 'MOCS2', 'YWHAZP3', 'NUP50', 'ATXN1', 'HAPLN1', 'ABCF2', 'NNT-AS1', 'APLP1', 'FAM49A', 'EGFR-AS1', 'RPS6KA3', 'OASL', 'RP11-50D9.1', 'ZNF561', 'GNAI3', 'TTYH1', 'FASTKD2', 'SRGAP1', 'CDS2', 'MYCBP2', 'SSFA2', 'MED17', 'OAS2', 'CIAPIN1', 'ETS2', 'RPS7P10', 'CELSR2', 'CTC-575D19.1', 'FRMD6', 'RPS3AP5', 'MET', 'EEF1A1P6', 'RPS27A', 'TCEAL4', 'RPL13AP7', 'PA2G4', 'RNU6-118P', 'PNRC2', 'UBA52', 'EPN2', 'INO80D', 'BCYRN1', 'TRIM14', 'ATP6V1B2', 'EPHB2', 'RPL10', 'S100A11', 'ARRDC3', 'ARGLU1', 'MAF', 'TMOD2', 'TRIB1', 'ZNF586', 'RP11-386M24.4', 'TJP2', 'ZNF480', 'IRS2', 'DDR1', 'FAM171B', 'C12orf45', 'IQCG', 'CRIM1', 'SLTM', 'DNTTIP2', 'PLA2G16', 'TIMP2', 'CXCL2', 'FOSL2', 'FBXO28', 'ENDOD1', 'ERCC1', 'EIF3M', 'HERC6', 'SORL1', 'RP11-592N21.1', 'CD83', 'ZCCHC24', 'NAMPTL', 'DTX3L', 'CCT5', 'PPM1A', 'LANCL2', 'OAS1', 'CCL3L3', 'HIST2H4A', 'TSC22D4', 'CHPF', 'GBP2', 'PCBP4', 'SLC10A1', 'EEF1A1P25', 'CALU', 'BAI3', 'CTNNBL1', 'BMP7', 'CIZ1', 'RPS5', 'AQR', 'MNS1', 'RPL21P120', 'PPP2R2B', 'NXT1', 'APOL2', 'AC092155.1', 'ANAPC10', 'SDAD1', 'RPL35', 'PLA2G4A', 'AEN'}\n"
     ]
    }
   ],
   "source": [
    "print (set(s12)-set(s13))"
   ]
  }
 ],
 "metadata": {
  "kernelspec": {
   "display_name": "Python 3",
   "language": "python",
   "name": "python3"
  },
  "language_info": {
   "codemirror_mode": {
    "name": "ipython",
    "version": 3
   },
   "file_extension": ".py",
   "mimetype": "text/x-python",
   "name": "python",
   "nbconvert_exporter": "python",
   "pygments_lexer": "ipython3",
   "version": "3.6.1"
  }
 },
 "nbformat": 4,
 "nbformat_minor": 2
}
