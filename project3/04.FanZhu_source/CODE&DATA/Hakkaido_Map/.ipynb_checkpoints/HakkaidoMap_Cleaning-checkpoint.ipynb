{
 "cells": [
  {
   "cell_type": "code",
   "execution_count": 17,
   "metadata": {
    "collapsed": true
   },
   "outputs": [],
   "source": [
    "import pandas as pd\n",
    "import numpy as np"
   ]
  },
  {
   "cell_type": "code",
   "execution_count": 18,
   "metadata": {
    "scrolled": false
   },
   "outputs": [
    {
     "name": "stdout",
     "output_type": "stream",
     "text": [
      "             Sapporo  Shiretoko  Noboribetsu  Muroran  Otaru  Esashi  Furano  \\\n",
      "Sapporo          0.0        0.0          1.0      0.0    1.0     0.0     1.0   \n",
      "Shiretoko        0.0        0.0          0.0      0.0    0.0     0.0     0.0   \n",
      "Noboribetsu      1.0        0.0          0.0      1.0    1.0     0.0     1.0   \n",
      "Muroran          0.0        0.0          1.0      0.0    1.0     0.0     0.0   \n",
      "Otaru            1.0        0.0          1.0      1.0    0.0     0.0     0.0   \n",
      "Esashi           0.0        0.0          0.0      0.0    0.0     0.0     0.0   \n",
      "Furano           1.0        0.0          1.0      0.0    0.0     0.0     0.0   \n",
      "Biei             0.0        0.0          0.0      0.0    0.0     0.0     1.0   \n",
      "Asahikawa        1.0        0.0          1.0      0.0    0.0     0.0     0.0   \n",
      "Kushiro          0.0        1.0          0.0      0.0    0.0     0.0     0.0   \n",
      "Abashiri         0.0        1.0          0.0      0.0    0.0     0.0     0.0   \n",
      "Monbetsu         0.0        0.0          0.0      0.0    0.0     0.0     0.0   \n",
      "Numuro           0.0        0.0          0.0      0.0    0.0     0.0     0.0   \n",
      "Wakkanai         0.0        0.0          0.0      0.0    0.0     0.0     0.0   \n",
      "Obihiro          1.0        0.0          1.0      0.0    0.0     0.0     1.0   \n",
      "Rumoi            1.0        0.0          0.0      0.0    0.0     0.0     1.0   \n",
      "Hakodate         1.0        0.0          1.0      1.0    1.0     1.0     0.0   \n",
      "\n",
      "             Biei  Asahikawa  Kushiro  Abashiri  Monbetsu  Numuro  Wakkanai  \\\n",
      "Sapporo       0.0        1.0      0.0       0.0       0.0     0.0       0.0   \n",
      "Shiretoko     0.0        0.0      1.0       1.0       0.0     0.0       0.0   \n",
      "Noboribetsu   0.0        1.0      0.0       0.0       0.0     0.0       0.0   \n",
      "Muroran       0.0        0.0      0.0       0.0       0.0     0.0       0.0   \n",
      "Otaru         0.0        0.0      0.0       0.0       0.0     0.0       0.0   \n",
      "Esashi        0.0        0.0      0.0       0.0       0.0     0.0       0.0   \n",
      "Furano        1.0        0.0      0.0       0.0       0.0     0.0       0.0   \n",
      "Biei          0.0        1.0      0.0       0.0       0.0     0.0       0.0   \n",
      "Asahikawa     1.0        0.0      0.0       1.0       1.0     0.0       1.0   \n",
      "Kushiro       0.0        0.0      0.0       0.0       0.0     1.0       0.0   \n",
      "Abashiri      0.0        1.0      0.0       0.0       0.0     0.0       0.0   \n",
      "Monbetsu      0.0        1.0      0.0       0.0       0.0     0.0       0.0   \n",
      "Numuro        0.0        0.0      1.0       0.0       0.0     0.0       0.0   \n",
      "Wakkanai      0.0        1.0      0.0       0.0       0.0     0.0       0.0   \n",
      "Obihiro       0.0        0.0      1.0       0.0       0.0     0.0       0.0   \n",
      "Rumoi         0.0        1.0      0.0       0.0       0.0     0.0       0.0   \n",
      "Hakodate      0.0        0.0      0.0       0.0       0.0     0.0       0.0   \n",
      "\n",
      "             Obihiro  Rumoi  Hakodate  \n",
      "Sapporo          1.0    1.0       1.0  \n",
      "Shiretoko        0.0    0.0       0.0  \n",
      "Noboribetsu      1.0    0.0       1.0  \n",
      "Muroran          0.0    0.0       1.0  \n",
      "Otaru            0.0    0.0       1.0  \n",
      "Esashi           0.0    0.0       1.0  \n",
      "Furano           1.0    1.0       0.0  \n",
      "Biei             0.0    0.0       0.0  \n",
      "Asahikawa        0.0    1.0       0.0  \n",
      "Kushiro          1.0    0.0       0.0  \n",
      "Abashiri         0.0    0.0       0.0  \n",
      "Monbetsu         0.0    0.0       0.0  \n",
      "Numuro           0.0    0.0       0.0  \n",
      "Wakkanai         0.0    0.0       0.0  \n",
      "Obihiro          0.0    0.0       0.0  \n",
      "Rumoi            0.0    0.0       0.0  \n",
      "Hakodate         0.0    0.0       0.0  \n",
      "(17, 17)\n"
     ]
    }
   ],
   "source": [
    "adj_mat_data = pd.read_csv('JRPASS+.csv',header=0,index_col=0,nrows=17)\n",
    "print(adj_mat_data)\n",
    "print(adj_mat_data.shape)"
   ]
  },
  {
   "cell_type": "code",
   "execution_count": 19,
   "metadata": {
    "scrolled": true
   },
   "outputs": [
    {
     "name": "stdout",
     "output_type": "stream",
     "text": [
      "[[ 0.  0.  1.  0.  1.  0.  1.  0.  1.  0.  0.  0.  0.  0.  1.  1.  1.]\n",
      " [ 0.  0.  0.  0.  0.  0.  0.  0.  0.  1.  1.  0.  0.  0.  0.  0.  0.]\n",
      " [ 1.  0.  0.  1.  1.  0.  1.  0.  1.  0.  0.  0.  0.  0.  1.  0.  1.]\n",
      " [ 0.  0.  1.  0.  1.  0.  0.  0.  0.  0.  0.  0.  0.  0.  0.  0.  1.]\n",
      " [ 1.  0.  1.  1.  0.  0.  0.  0.  0.  0.  0.  0.  0.  0.  0.  0.  1.]\n",
      " [ 0.  0.  0.  0.  0.  0.  0.  0.  0.  0.  0.  0.  0.  0.  0.  0.  1.]\n",
      " [ 1.  0.  1.  0.  0.  0.  0.  1.  0.  0.  0.  0.  0.  0.  1.  1.  0.]\n",
      " [ 0.  0.  0.  0.  0.  0.  1.  0.  1.  0.  0.  0.  0.  0.  0.  0.  0.]\n",
      " [ 1.  0.  1.  0.  0.  0.  0.  1.  0.  0.  1.  1.  0.  1.  0.  1.  0.]\n",
      " [ 0.  1.  0.  0.  0.  0.  0.  0.  0.  0.  0.  0.  1.  0.  1.  0.  0.]\n",
      " [ 0.  1.  0.  0.  0.  0.  0.  0.  1.  0.  0.  0.  0.  0.  0.  0.  0.]\n",
      " [ 0.  0.  0.  0.  0.  0.  0.  0.  1.  0.  0.  0.  0.  0.  0.  0.  0.]\n",
      " [ 0.  0.  0.  0.  0.  0.  0.  0.  0.  1.  0.  0.  0.  0.  0.  0.  0.]\n",
      " [ 0.  0.  0.  0.  0.  0.  0.  0.  1.  0.  0.  0.  0.  0.  0.  0.  0.]\n",
      " [ 1.  0.  1.  0.  0.  0.  1.  0.  0.  1.  0.  0.  0.  0.  0.  0.  0.]\n",
      " [ 1.  0.  0.  0.  0.  0.  1.  0.  1.  0.  0.  0.  0.  0.  0.  0.  0.]\n",
      " [ 1.  0.  1.  1.  1.  1.  0.  0.  0.  0.  0.  0.  0.  0.  0.  0.  0.]]\n"
     ]
    }
   ],
   "source": [
    "adj_mat = adj_mat_data.values\n",
    "adj_mat[np.isnan(adj_mat)] = 0\n",
    "adj_mat = adj_mat + adj_mat.T\n",
    "adj_mat[adj_mat > 0] = 1\n",
    "print(adj_mat)"
   ]
  },
  {
   "cell_type": "code",
   "execution_count": 20,
   "metadata": {
    "scrolled": false
   },
   "outputs": [
    {
     "name": "stdout",
     "output_type": "stream",
     "text": [
      "             Sapporo  Shiretoko  Noboribetsu  Muroran  Otaru  Esashi  Furano  \\\n",
      "Sapporo          0.0        0.0          1.0      0.0    1.0     0.0     1.0   \n",
      "Shiretoko        0.0        0.0          0.0      0.0    0.0     0.0     0.0   \n",
      "Noboribetsu      1.0        0.0          0.0      1.0    1.0     0.0     1.0   \n",
      "Muroran          0.0        0.0          1.0      0.0    1.0     0.0     0.0   \n",
      "Otaru            1.0        0.0          1.0      1.0    0.0     0.0     0.0   \n",
      "Esashi           0.0        0.0          0.0      0.0    0.0     0.0     0.0   \n",
      "Furano           1.0        0.0          1.0      0.0    0.0     0.0     0.0   \n",
      "Biei             0.0        0.0          0.0      0.0    0.0     0.0     1.0   \n",
      "Asahikawa        1.0        0.0          1.0      0.0    0.0     0.0     0.0   \n",
      "Kushiro          0.0        1.0          0.0      0.0    0.0     0.0     0.0   \n",
      "Abashiri         0.0        1.0          0.0      0.0    0.0     0.0     0.0   \n",
      "Monbetsu         0.0        0.0          0.0      0.0    0.0     0.0     0.0   \n",
      "Numuro           0.0        0.0          0.0      0.0    0.0     0.0     0.0   \n",
      "Wakkanai         0.0        0.0          0.0      0.0    0.0     0.0     0.0   \n",
      "Obihiro          1.0        0.0          1.0      0.0    0.0     0.0     1.0   \n",
      "Rumoi            1.0        0.0          0.0      0.0    0.0     0.0     1.0   \n",
      "Hakodate         1.0        0.0          1.0      1.0    1.0     1.0     0.0   \n",
      "\n",
      "             Biei  Asahikawa  Kushiro  Abashiri  Monbetsu  Numuro  Wakkanai  \\\n",
      "Sapporo       0.0        1.0      0.0       0.0       0.0     0.0       0.0   \n",
      "Shiretoko     0.0        0.0      1.0       1.0       0.0     0.0       0.0   \n",
      "Noboribetsu   0.0        1.0      0.0       0.0       0.0     0.0       0.0   \n",
      "Muroran       0.0        0.0      0.0       0.0       0.0     0.0       0.0   \n",
      "Otaru         0.0        0.0      0.0       0.0       0.0     0.0       0.0   \n",
      "Esashi        0.0        0.0      0.0       0.0       0.0     0.0       0.0   \n",
      "Furano        1.0        0.0      0.0       0.0       0.0     0.0       0.0   \n",
      "Biei          0.0        1.0      0.0       0.0       0.0     0.0       0.0   \n",
      "Asahikawa     1.0        0.0      0.0       1.0       1.0     0.0       1.0   \n",
      "Kushiro       0.0        0.0      0.0       0.0       0.0     1.0       0.0   \n",
      "Abashiri      0.0        1.0      0.0       0.0       0.0     0.0       0.0   \n",
      "Monbetsu      0.0        1.0      0.0       0.0       0.0     0.0       0.0   \n",
      "Numuro        0.0        0.0      1.0       0.0       0.0     0.0       0.0   \n",
      "Wakkanai      0.0        1.0      0.0       0.0       0.0     0.0       0.0   \n",
      "Obihiro       0.0        0.0      1.0       0.0       0.0     0.0       0.0   \n",
      "Rumoi         0.0        1.0      0.0       0.0       0.0     0.0       0.0   \n",
      "Hakodate      0.0        0.0      0.0       0.0       0.0     0.0       0.0   \n",
      "\n",
      "             Obihiro  Rumoi  Hakodate  \n",
      "Sapporo          1.0    1.0       1.0  \n",
      "Shiretoko        0.0    0.0       0.0  \n",
      "Noboribetsu      1.0    0.0       1.0  \n",
      "Muroran          0.0    0.0       1.0  \n",
      "Otaru            0.0    0.0       1.0  \n",
      "Esashi           0.0    0.0       1.0  \n",
      "Furano           1.0    1.0       0.0  \n",
      "Biei             0.0    0.0       0.0  \n",
      "Asahikawa        0.0    1.0       0.0  \n",
      "Kushiro          1.0    0.0       0.0  \n",
      "Abashiri         0.0    0.0       0.0  \n",
      "Monbetsu         0.0    0.0       0.0  \n",
      "Numuro           0.0    0.0       0.0  \n",
      "Wakkanai         0.0    0.0       0.0  \n",
      "Obihiro          0.0    0.0       0.0  \n",
      "Rumoi            0.0    0.0       0.0  \n",
      "Hakodate         0.0    0.0       0.0  \n"
     ]
    }
   ],
   "source": [
    "df = pd.DataFrame(adj_mat, index=city, columns=city)\n",
    "print(df)\n",
    "df.to_csv('JRPASS+.csv')"
   ]
  },
  {
   "cell_type": "code",
   "execution_count": 10,
   "metadata": {
    "scrolled": false
   },
   "outputs": [
    {
     "name": "stdout",
     "output_type": "stream",
     "text": [
      "             Sapporo  Shiretoko  Noboribetsu     Muroran        Otaru  \\\n",
      "City                                                                    \n",
      "View_1    695.000000      692.0       1034.0  202.000000  2199.000000   \n",
      "Grade_1     4.500000        4.5          4.0    4.000000     4.000000   \n",
      "View_2   1112.000000      486.0        265.0  114.000000   286.000000   \n",
      "Grade_2     4.500000        4.0          4.5    4.000000     4.000000   \n",
      "View_3   1394.000000      210.0        274.0   36.000000   291.000000   \n",
      "Grade_3     4.000000        4.0          4.0    4.500000     4.000000   \n",
      "Score    4569.166667     1966.0       2141.5  475.333333  3701.333333   \n",
      "\n",
      "             Esashi       Furano    Biei  Asahikawa      Kushiro     Abashiri  \\\n",
      "City                                                                            \n",
      "View_1    54.000000   524.000000   673.0     2179.0   507.000000   551.000000   \n",
      "Grade_1    4.000000     4.000000     4.5        4.5     4.000000     4.500000   \n",
      "View_2    30.000000   250.000000  1296.0      201.0   276.000000   263.000000   \n",
      "Grade_2    4.000000     4.500000     4.0        4.0     4.000000     4.000000   \n",
      "View_3    38.000000   200.000000   300.0      139.0   176.000000   141.000000   \n",
      "Grade_3    3.500000     4.000000     4.0        4.5     4.000000     4.000000   \n",
      "Score    156.333333  1340.333333  3137.5     3745.0  1278.666667  1365.166667   \n",
      "\n",
      "         Monbetsu  Numuro     Wakkanai      Obihiro       Rumoi  Hakodate  \n",
      "City                                                                       \n",
      "View_1       86.0     130   498.000000   366.000000   37.000000    2846.0  \n",
      "Grade_1       4.0       4     4.000000     4.000000    4.000000       4.5  \n",
      "View_2       55.0     137   257.000000   332.000000   19.000000    1609.0  \n",
      "Grade_2       4.0       4     4.000000     3.500000    4.000000       4.0  \n",
      "View_3       63.0      36   247.000000   120.000000   22.000000    1238.0  \n",
      "Grade_3       4.5       4     3.500000     4.500000    3.500000       4.0  \n",
      "Score       282.5     404  1294.833333  1055.333333  100.333333    8065.0  \n"
     ]
    }
   ],
   "source": [
    "score_mat = pd.read_csv('Score.csv',header=0,index_col=0)\n",
    "print(score_mat)"
   ]
  },
  {
   "cell_type": "code",
   "execution_count": 21,
   "metadata": {
    "scrolled": false
   },
   "outputs": [
    {
     "name": "stdout",
     "output_type": "stream",
     "text": [
      "[-7.23993259 -6.53958596 -6.94119006 -5.3082677  -7.69575799 -3.98898405\n",
      " -6.26149168 -7.16703788 -7.68662133 -6.228511   -6.31173481 -4.4543473\n",
      " -4.91998093 -6.21060008 -5.90263333 -3.61091791 -7.95366978]\n",
      "[16, 4, 8, 0, 7, 2, 1, 10, 6, 9, 13, 14, 3, 12, 11, 5, 15]\n"
     ]
    }
   ],
   "source": [
    "people = np.max(score_mat.values[[0,2,4]],axis=0)\n",
    "energy = -np.log(people)\n",
    "print(energy)\n",
    "print(list(np.argsort(energy)))"
   ]
  },
  {
   "cell_type": "code",
   "execution_count": 22,
   "metadata": {
    "scrolled": true
   },
   "outputs": [
    {
     "name": "stdout",
     "output_type": "stream",
     "text": [
      "Index(['Sapporo', 'Shiretoko', 'Noboribetsu', 'Muroran', 'Otaru', 'Esashi',\n",
      "       'Furano', 'Biei', 'Asahikawa', 'Kushiro', 'Abashiri', 'Monbetsu',\n",
      "       'Numuro', 'Wakkanai', 'Obihiro', 'Rumoi', 'Hakodate'],\n",
      "      dtype='object')\n"
     ]
    }
   ],
   "source": [
    "city = adj_mat_data.columns\n",
    "print(city)"
   ]
  },
  {
   "cell_type": "code",
   "execution_count": 23,
   "metadata": {
    "scrolled": true
   },
   "outputs": [
    {
     "name": "stdout",
     "output_type": "stream",
     "text": [
      "[{'id': 'Sapporo'}, {'id': 'Shiretoko'}, {'id': 'Noboribetsu'}, {'id': 'Muroran'}, {'id': 'Otaru'}, {'id': 'Esashi'}, {'id': 'Furano'}, {'id': 'Biei'}, {'id': 'Asahikawa'}, {'id': 'Kushiro'}, {'id': 'Abashiri'}, {'id': 'Monbetsu'}, {'id': 'Numuro'}, {'id': 'Wakkanai'}, {'id': 'Obihiro'}, {'id': 'Rumoi'}, {'id': 'Hakodate'}]\n"
     ]
    }
   ],
   "source": [
    "nodes = [{'id':a} for a in city]\n",
    "print(nodes)\n",
    "#nodes"
   ]
  },
  {
   "cell_type": "code",
   "execution_count": 25,
   "metadata": {
    "scrolled": true
   },
   "outputs": [
    {
     "data": {
      "text/plain": [
       "[{'source': 'Noboribetsu', 'target': 'Sapporo', 'value': 1},\n",
       " {'source': 'Muroran', 'target': 'Noboribetsu', 'value': 1},\n",
       " {'source': 'Sapporo', 'target': 'Otaru', 'value': 1},\n",
       " {'source': 'Noboribetsu', 'target': 'Otaru', 'value': 1},\n",
       " {'source': 'Muroran', 'target': 'Otaru', 'value': 1},\n",
       " {'source': 'Furano', 'target': 'Sapporo', 'value': 1},\n",
       " {'source': 'Furano', 'target': 'Noboribetsu', 'value': 1},\n",
       " {'source': 'Furano', 'target': 'Biei', 'value': 1},\n",
       " {'source': 'Sapporo', 'target': 'Asahikawa', 'value': 1},\n",
       " {'source': 'Noboribetsu', 'target': 'Asahikawa', 'value': 1},\n",
       " {'source': 'Biei', 'target': 'Asahikawa', 'value': 1},\n",
       " {'source': 'Kushiro', 'target': 'Shiretoko', 'value': 1},\n",
       " {'source': 'Abashiri', 'target': 'Shiretoko', 'value': 1},\n",
       " {'source': 'Abashiri', 'target': 'Asahikawa', 'value': 1},\n",
       " {'source': 'Monbetsu', 'target': 'Asahikawa', 'value': 1},\n",
       " {'source': 'Numuro', 'target': 'Kushiro', 'value': 1},\n",
       " {'source': 'Wakkanai', 'target': 'Asahikawa', 'value': 1},\n",
       " {'source': 'Obihiro', 'target': 'Sapporo', 'value': 1},\n",
       " {'source': 'Obihiro', 'target': 'Noboribetsu', 'value': 1},\n",
       " {'source': 'Obihiro', 'target': 'Furano', 'value': 1},\n",
       " {'source': 'Obihiro', 'target': 'Kushiro', 'value': 1},\n",
       " {'source': 'Rumoi', 'target': 'Sapporo', 'value': 1},\n",
       " {'source': 'Rumoi', 'target': 'Furano', 'value': 1},\n",
       " {'source': 'Rumoi', 'target': 'Asahikawa', 'value': 1},\n",
       " {'source': 'Sapporo', 'target': 'Hakodate', 'value': 1},\n",
       " {'source': 'Noboribetsu', 'target': 'Hakodate', 'value': 1},\n",
       " {'source': 'Muroran', 'target': 'Hakodate', 'value': 1},\n",
       " {'source': 'Otaru', 'target': 'Hakodate', 'value': 1},\n",
       " {'source': 'Esashi', 'target': 'Hakodate', 'value': 1}]"
      ]
     },
     "execution_count": 25,
     "metadata": {},
     "output_type": "execute_result"
    }
   ],
   "source": [
    "links = []\n",
    "for index1, a in enumerate(adj_mat):\n",
    "    for index2, b in enumerate(a):\n",
    "        if b and index1>index2:\n",
    "            if energy[index1]> energy[index2]:\n",
    "                links.append({\n",
    "                    'source':city[index1],\n",
    "                    'target':city[index2],\n",
    "                    'value':1\n",
    "                })\n",
    "            else:\n",
    "                links.append({\n",
    "                    'source':city[index2],\n",
    "                    'target':city[index1],\n",
    "                    'value':1\n",
    "                })\n",
    "links"
   ]
  },
  {
   "cell_type": "code",
   "execution_count": 26,
   "metadata": {
    "scrolled": false
   },
   "outputs": [
    {
     "data": {
      "text/plain": [
       "[{'id': 'Sapporo'},\n",
       " {'id': 'Shiretoko'},\n",
       " {'id': 'Noboribetsu'},\n",
       " {'id': 'Muroran'},\n",
       " {'id': 'Otaru'},\n",
       " {'id': 'Esashi'},\n",
       " {'id': 'Furano'},\n",
       " {'id': 'Biei'},\n",
       " {'id': 'Asahikawa'},\n",
       " {'id': 'Kushiro'},\n",
       " {'id': 'Abashiri'},\n",
       " {'id': 'Monbetsu'},\n",
       " {'id': 'Numuro'},\n",
       " {'id': 'Wakkanai'},\n",
       " {'id': 'Obihiro'},\n",
       " {'id': 'Rumoi'},\n",
       " {'id': 'Hakodate'}]"
      ]
     },
     "execution_count": 26,
     "metadata": {},
     "output_type": "execute_result"
    }
   ],
   "source": [
    "graph['nodes']"
   ]
  },
  {
   "cell_type": "code",
   "execution_count": 27,
   "metadata": {
    "collapsed": true
   },
   "outputs": [],
   "source": [
    "graph = {\n",
    "    'nodes':nodes,\n",
    "    'links':links\n",
    "}"
   ]
  },
  {
   "cell_type": "code",
   "execution_count": 28,
   "metadata": {
    "collapsed": true
   },
   "outputs": [],
   "source": [
    "import json\n",
    "with open('HakkaidoMap.json','w') as outfile:\n",
    "    json.dump(graph, outfile)"
   ]
  },
  {
   "cell_type": "code",
   "execution_count": 29,
   "metadata": {
    "collapsed": true
   },
   "outputs": [],
   "source": [
    "all_data = {\n",
    "    'graph':graph,\n",
    "    'adj_mat':adj_mat,\n",
    "    'energy':energy,\n",
    "    'city':city,\n",
    "    'people':people\n",
    "}"
   ]
  },
  {
   "cell_type": "code",
   "execution_count": 31,
   "metadata": {},
   "outputs": [],
   "source": [
    "import pickle\n",
    "pickle.dump(all_data, open('Hakkaido_cleaned.p','wb'))"
   ]
  },
  {
   "cell_type": "code",
   "execution_count": null,
   "metadata": {
    "collapsed": true
   },
   "outputs": [],
   "source": []
  }
 ],
 "metadata": {
  "kernelspec": {
   "display_name": "Python [conda root]",
   "language": "python",
   "name": "conda-root-py"
  },
  "language_info": {
   "codemirror_mode": {
    "name": "ipython",
    "version": 3
   },
   "file_extension": ".py",
   "mimetype": "text/x-python",
   "name": "python",
   "nbconvert_exporter": "python",
   "pygments_lexer": "ipython3",
   "version": "3.5.3"
  }
 },
 "nbformat": 4,
 "nbformat_minor": 2
}
