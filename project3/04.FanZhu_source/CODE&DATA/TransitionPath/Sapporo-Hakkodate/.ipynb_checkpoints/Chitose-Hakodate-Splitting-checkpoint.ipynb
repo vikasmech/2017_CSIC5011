{
 "cells": [
  {
   "cell_type": "code",
   "execution_count": 3,
   "metadata": {
    "collapsed": true
   },
   "outputs": [],
   "source": [
    "import numpy as np\n",
    "from discreteMarkovChain import markovChain"
   ]
  },
  {
   "cell_type": "code",
   "execution_count": 6,
   "metadata": {
    "collapsed": true
   },
   "outputs": [],
   "source": [
    "import pickle\n",
    "all_data = pickle.load(open('/Users/zwz/Statistical_Learning/Homework/TransitionPath/Hakkaido/Graph/Hakkaido_Hier_OriSco.p','rb'))\n",
    "# data"
   ]
  },
  {
   "cell_type": "code",
   "execution_count": 9,
   "metadata": {
    "scrolled": true
   },
   "outputs": [
    {
     "data": {
      "text/plain": [
       "dict_keys(['graph', 'people', 'adj_mat', 'energy', 'city'])"
      ]
     },
     "execution_count": 9,
     "metadata": {},
     "output_type": "execute_result"
    }
   ],
   "source": [
    "all_data.keys()"
   ]
  },
  {
   "cell_type": "code",
   "execution_count": 8,
   "metadata": {
    "collapsed": true
   },
   "outputs": [],
   "source": [
    "graph = all_data['graph']\n",
    "adj_mat = all_data['adj_mat']\n",
    "people = all_data['people']\n",
    "city = all_data['city']"
   ]
  },
  {
   "cell_type": "code",
   "execution_count": 43,
   "metadata": {
    "collapsed": true
   },
   "outputs": [],
   "source": [
    "adj_mat = np.dot(adj_mat, adj_mat)\n",
    "adj_mat[adj_mat > 0] = 1"
   ]
  },
  {
   "cell_type": "code",
   "execution_count": 44,
   "metadata": {},
   "outputs": [],
   "source": [
    "trans_un = adj_mat * people\n",
    "trans = (trans_un.T / np.sum(trans_un,axis = 1)).T\n",
    "N,_ = trans.shape"
   ]
  },
  {
   "cell_type": "markdown",
   "metadata": {},
   "source": [
    "`The transition probability is C_0 * score * exp(-beta * distance`)"
   ]
  },
  {
   "cell_type": "code",
   "execution_count": 6,
   "metadata": {
    "scrolled": false
   },
   "outputs": [
    {
     "name": "stdout",
     "output_type": "stream",
     "text": [
      "[[  0.00000000e+00   4.49364498e+03   0.00000000e+00   2.10610412e+03\n",
      "    0.00000000e+00]\n",
      " [  2.61778246e+03   0.00000000e+00   1.59534439e+00   6.45007405e+02\n",
      "    7.10949503e+01]\n",
      " [  0.00000000e+00   9.91206583e+00   0.00000000e+00   0.00000000e+00\n",
      "    0.00000000e+00]\n",
      " [  2.61778246e+03   1.24524318e+03   0.00000000e+00   0.00000000e+00\n",
      "    2.98076345e+02]\n",
      " [  0.00000000e+00   7.30517207e+02   0.00000000e+00   1.17528012e+03\n",
      "    0.00000000e+00]]\n"
     ]
    }
   ],
   "source": [
    "# hyper parameter beta\n",
    "beta = 1\n",
    "\n",
    "dis_mat = dis_mat_data.values\n",
    "dis_mat = dis_mat / 60\n",
    "disconnect_index = dis_mat <= 0\n",
    "adj_mat = score * np.exp(-beta*dis_mat) \n",
    "adj_mat[disconnect_index] = 0\n",
    "print(adj_mat[0:5,0:5])\n",
    "#print(adj_mat[0])\n",
    "# print(dis_mat[0:5,0:5])"
   ]
  },
  {
   "cell_type": "code",
   "execution_count": 7,
   "metadata": {},
   "outputs": [
    {
     "name": "stdout",
     "output_type": "stream",
     "text": [
      "[ 0.          0.68088118  0.          0.31911882  0.          0.          0.\n",
      "  0.          0.          0.          0.          0.          0.          0.        ]\n",
      "[  3.87311873e-01   0.00000000e+00   2.36037881e-04   9.54315455e-02\n",
      "   1.05187955e-02   2.58681037e-01   2.06898117e-04   1.98821235e-02\n",
      "   6.07638866e-02   1.34378121e-01   3.29603602e-03   7.59455052e-04\n",
      "   2.85341909e-02   0.00000000e+00]\n"
     ]
    }
   ],
   "source": [
    "deg = np.sum(adj_mat,axis=1)\n",
    "#print(deg)\n",
    "trans = (1/deg * adj_mat.T).T\n",
    "N,_ = trans.shape\n",
    "#print(adj_mat[0])\n",
    "print(trans[0])\n",
    "print(trans[1])\n",
    "#print(np.sum(trans[0]))"
   ]
  },
  {
   "cell_type": "markdown",
   "metadata": {},
   "source": [
    "Solve a linear equation $\\pi * P = \\pi$. Here we use package ``discreteMarkovChain``"
   ]
  },
  {
   "cell_type": "code",
   "execution_count": 45,
   "metadata": {
    "collapsed": true
   },
   "outputs": [],
   "source": [
    "mc = markovChain(P=trans)"
   ]
  },
  {
   "cell_type": "code",
   "execution_count": 46,
   "metadata": {
    "scrolled": false
   },
   "outputs": [
    {
     "name": "stdout",
     "output_type": "stream",
     "text": [
      "[ 0.09674223  0.04244619  0.07175858  0.0140186   0.15260844  0.00353479\n",
      "  0.03636509  0.08994113  0.15122046  0.03318773  0.03606792  0.00562948\n",
      "  0.00840336  0.03259859  0.02540004  0.00256776  0.1975096 ]\n",
      "(17,)\n"
     ]
    }
   ],
   "source": [
    "mc.computePi('linear')\n",
    "print(mc.pi)\n",
    "print(mc.pi.shape)"
   ]
  },
  {
   "cell_type": "markdown",
   "metadata": {},
   "source": [
    "`Next, we should tune the parameter such that the KL divergence between mc.pi and empirical stationary distribution as lower as possible`"
   ]
  },
  {
   "cell_type": "code",
   "execution_count": 21,
   "metadata": {},
   "outputs": [
    {
     "ename": "NameError",
     "evalue": "name 'score' is not defined",
     "output_type": "error",
     "traceback": [
      "\u001b[0;31m---------------------------------------------------------------------------\u001b[0m",
      "\u001b[0;31mNameError\u001b[0m                                 Traceback (most recent call last)",
      "\u001b[0;32m<ipython-input-21-4e5b2efe82a4>\u001b[0m in \u001b[0;36m<module>\u001b[0;34m()\u001b[0m\n\u001b[0;32m----> 1\u001b[0;31m \u001b[0malpha\u001b[0m \u001b[0;34m=\u001b[0m \u001b[0;34m[\u001b[0m\u001b[0mnp\u001b[0m\u001b[0;34m.\u001b[0m\u001b[0mmean\u001b[0m\u001b[0;34m(\u001b[0m\u001b[0mscore\u001b[0m\u001b[0;34m[\u001b[0m\u001b[0;36m1\u001b[0m\u001b[0;34m:\u001b[0m\u001b[0;34m-\u001b[0m\u001b[0;36m1\u001b[0m\u001b[0;34m]\u001b[0m\u001b[0;34m)\u001b[0m\u001b[0;34m,\u001b[0m\u001b[0;36m1000\u001b[0m\u001b[0;34m,\u001b[0m\u001b[0;36m100\u001b[0m\u001b[0;34m]\u001b[0m\u001b[0;34m\u001b[0m\u001b[0m\n\u001b[0m\u001b[1;32m      2\u001b[0m \u001b[0mbeta\u001b[0m \u001b[0;34m=\u001b[0m \u001b[0;34m[\u001b[0m\u001b[0;36m1\u001b[0m\u001b[0;34m]\u001b[0m\u001b[0;34m\u001b[0m\u001b[0m\n\u001b[1;32m      3\u001b[0m \u001b[0;34m\u001b[0m\u001b[0m\n\u001b[1;32m      4\u001b[0m \u001b[0mKL_opt\u001b[0m \u001b[0;34m=\u001b[0m \u001b[0;36m10\u001b[0m \u001b[0;31m# an upper bound\u001b[0m\u001b[0;34m\u001b[0m\u001b[0m\n\u001b[1;32m      5\u001b[0m \u001b[0mtrans_opt\u001b[0m \u001b[0;34m=\u001b[0m \u001b[0;36m0\u001b[0m\u001b[0;34m\u001b[0m\u001b[0m\n",
      "\u001b[0;31mNameError\u001b[0m: name 'score' is not defined"
     ]
    }
   ],
   "source": [
    "alpha = [np.mean(score[1:-1]),1000,100]\n",
    "beta = [1]\n",
    "\n",
    "KL_opt = 10 # an upper bound\n",
    "trans_opt = 0\n",
    "\n",
    "print('Emperical stationary distribution : \\n', pi_em)\n",
    "for a in alpha:\n",
    "    for b in beta:\n",
    "        score[-1] = a\n",
    "        adj_mat = score * np.exp(-b*dis_mat) \n",
    "        adj_mat[disconnect_index] = 0\n",
    "        deg = np.sum(adj_mat,axis=1)\n",
    "        trans = (1/deg * adj_mat.T).T\n",
    "        \n",
    "        mc = markovChain(P=trans)\n",
    "        mc.computePi('linear')\n",
    "        ## cancelling the last one\n",
    "        pi_cv = mc.pi\n",
    "        pi_cv = pi_cv[1:-1]\n",
    "        KL = np.sum( pi_em * np.log(pi_em/pi_cv) )\n",
    "        if KL < KL_opt:\n",
    "            print('alpha : ',a, 'beta : ',b,'with optimal KL divergence:', KL,'\\nand stationary :\\n ',pi_cv)\n",
    "            KL_opt = KL\n",
    "            trans_opt = trans\n",
    "            "
   ]
  },
  {
   "cell_type": "markdown",
   "metadata": {},
   "source": [
    "Solve a (discrete) Dirichlet boundary problem for committor function"
   ]
  },
  {
   "cell_type": "code",
   "execution_count": 47,
   "metadata": {},
   "outputs": [],
   "source": [
    "#trans = trans_opt\n",
    "\n",
    "a1 = np.zeros(N)\n",
    "a1[0] = 1\n",
    "a2 = np.zeros(N)\n",
    "a2[-1] = 1\n",
    "a = np.vstack((trans[1:-1,0], (trans[1:-1,1:-1]-np.identity(N-2)).T, trans[1:-1,-1])).T\n",
    "a = np.vstack((a1,a,a2))"
   ]
  },
  {
   "cell_type": "code",
   "execution_count": 48,
   "metadata": {
    "collapsed": true
   },
   "outputs": [],
   "source": [
    "b = np.zeros(N)\n",
    "b[0] = 0\n",
    "b[-1] = 1"
   ]
  },
  {
   "cell_type": "code",
   "execution_count": 49,
   "metadata": {
    "scrolled": true
   },
   "outputs": [
    {
     "name": "stdout",
     "output_type": "stream",
     "text": [
      "[ 0.          0.67122642  0.67122642  0.67122642  0.67122642  0.67122642\n",
      "  0.67122642  0.67122642  0.67122642  0.67122642  0.67122642  0.67122642\n",
      "  0.67122642  0.67122642  0.67122642  0.67122642  1.        ]\n"
     ]
    }
   ],
   "source": [
    "q = np.linalg.solve(a,b)\n",
    "print(q)"
   ]
  },
  {
   "cell_type": "markdown",
   "metadata": {},
   "source": [
    "Solve the effective flux on each edge (x,y)\n",
    "Firstly, calculate reactive current, which describes the ``reactive flow passing by x and y``.\n",
    "Then, effective flux is basically the max(J(xy)-J(yx),0)"
   ]
  },
  {
   "cell_type": "code",
   "execution_count": 50,
   "metadata": {},
   "outputs": [
    {
     "name": "stdout",
     "output_type": "stream",
     "text": [
      "[  0.00000000e+00   7.50470403e-04   1.12136763e-03   2.19067950e-04\n",
      "   2.38480407e-03   5.85627193e-05   5.68275277e-04   1.40550526e-03\n",
      "   2.36311417e-03   5.49838865e-04   5.97556636e-04   9.32665530e-05\n",
      "   1.48575788e-04   5.40078412e-04   3.96925098e-04   4.01263077e-05\n",
      "   4.59825796e-03]\n",
      "[  4.59825796e-03   7.50470403e-04   1.12136763e-03   2.19067950e-04\n",
      "   2.38480407e-03   5.85627193e-05   5.68275277e-04   1.40550526e-03\n",
      "   2.36311417e-03   5.49838865e-04   5.97556636e-04   9.32665530e-05\n",
      "   1.48575788e-04   5.40078412e-04   3.96925098e-04   4.01263077e-05\n",
      "   0.00000000e+00]\n"
     ]
    }
   ],
   "source": [
    "J_dir = np.zeros((N,N))\n",
    "for x in range(N):\n",
    "    for y in range(N):\n",
    "        J_dir[x,y] = mc.pi[x] * (1-q[x]) * trans[x,y] * q[y]\n",
    "print(J_dir[2])\n",
    "print(J_dir.T[2])"
   ]
  },
  {
   "cell_type": "code",
   "execution_count": 51,
   "metadata": {
    "scrolled": true
   },
   "outputs": [
    {
     "name": "stdout",
     "output_type": "stream",
     "text": [
      "[ 0.          0.00307736  0.00459826  0.00089831  0.00977908  0.00024014\n",
      "  0.00233026  0.00576339  0.00969014  0.00225466  0.00245033  0.00038245\n",
      "  0.00060925  0.00221463  0.00162762  0.00016454  0.01885553]\n"
     ]
    },
    {
     "data": {
      "text/plain": [
       "0.018855525883248174"
      ]
     },
     "execution_count": 51,
     "metadata": {},
     "output_type": "execute_result"
    }
   ],
   "source": [
    "J_eff = np.maximum(J_dir - J_dir.T, 0)\n",
    "print(J_eff[0])\n",
    "np.max(J_eff)"
   ]
  },
  {
   "cell_type": "markdown",
   "metadata": {},
   "source": [
    "Compute the transition flux through each node x$\\in$V."
   ]
  },
  {
   "cell_type": "code",
   "execution_count": 52,
   "metadata": {
    "scrolled": true
   },
   "outputs": [
    {
     "name": "stdout",
     "output_type": "stream",
     "text": [
      "[ 0.06493594  0.00307736  0.00459826  0.00089831  0.00977908  0.00024014\n",
      "  0.00233026  0.00576339  0.00969014  0.00225466  0.00245033  0.00038245\n",
      "  0.00060925  0.00221463  0.00162762  0.00016454  0.06493594]\n"
     ]
    }
   ],
   "source": [
    "flux = np.zeros(N)\n",
    "flux[0] = np.sum(J_eff[0])\n",
    "flux[-1] = np.sum(J_eff[:,-1])\n",
    "for x in np.arange(1,N-1):\n",
    "    flux[x] = np.sum(J_eff[x,])\n",
    "    #print(J_eff[x,].sum() - J_eff[:,x].sum())\n",
    "print(flux)"
   ]
  },
  {
   "cell_type": "code",
   "execution_count": 53,
   "metadata": {},
   "outputs": [
    {
     "name": "stdout",
     "output_type": "stream",
     "text": [
      "[ 1.40918742  0.06678247  0.09978769  0.01949431  0.21221772  0.00521135\n",
      "  0.05056939  0.12507238  0.21028759  0.04892878  0.05317506  0.00829956\n",
      "  0.01322139  0.04806022  0.03532137  0.00357074  1.40918742]\n",
      "(17,)\n"
     ]
    }
   ],
   "source": [
    "print(flux / np.sum(flux[1:-1]))\n",
    "print(flux.shape)"
   ]
  },
  {
   "cell_type": "code",
   "execution_count": 54,
   "metadata": {},
   "outputs": [
    {
     "data": {
      "text/plain": [
       "array([[ 1.,  1.,  1.,  1.,  1.,  1.,  1.,  1.,  1.,  1.,  1.,  1.,  1.,\n",
       "         1.,  1.,  1.,  1.],\n",
       "       [ 1.,  1.,  1.,  1.,  1.,  0.,  1.,  1.,  1.,  0.,  0.,  0.,  1.,\n",
       "         0.,  1.,  1.,  1.],\n",
       "       [ 1.,  1.,  1.,  1.,  1.,  1.,  1.,  1.,  1.,  1.,  1.,  1.,  1.,\n",
       "         1.,  1.,  1.,  1.],\n",
       "       [ 1.,  1.,  1.,  1.,  1.,  1.,  1.,  1.,  1.,  1.,  1.,  1.,  1.,\n",
       "         1.,  1.,  1.,  1.],\n",
       "       [ 1.,  1.,  1.,  1.,  1.,  1.,  1.,  1.,  1.,  1.,  1.,  1.,  1.,\n",
       "         1.,  1.,  1.,  1.],\n",
       "       [ 1.,  0.,  1.,  1.,  1.,  1.,  1.,  1.,  1.,  1.,  1.,  1.,  0.,\n",
       "         1.,  1.,  1.,  1.],\n",
       "       [ 1.,  1.,  1.,  1.,  1.,  1.,  1.,  1.,  1.,  1.,  1.,  1.,  1.,\n",
       "         1.,  1.,  1.,  1.],\n",
       "       [ 1.,  1.,  1.,  1.,  1.,  1.,  1.,  1.,  1.,  1.,  1.,  1.,  1.,\n",
       "         1.,  1.,  1.,  1.],\n",
       "       [ 1.,  1.,  1.,  1.,  1.,  1.,  1.,  1.,  1.,  1.,  1.,  1.,  1.,\n",
       "         1.,  1.,  1.,  1.],\n",
       "       [ 1.,  0.,  1.,  1.,  1.,  1.,  1.,  1.,  1.,  1.,  1.,  1.,  0.,\n",
       "         1.,  1.,  1.,  1.],\n",
       "       [ 1.,  0.,  1.,  1.,  1.,  1.,  1.,  1.,  1.,  1.,  1.,  1.,  0.,\n",
       "         1.,  1.,  1.,  1.],\n",
       "       [ 1.,  0.,  1.,  1.,  1.,  1.,  1.,  1.,  1.,  1.,  1.,  1.,  0.,\n",
       "         1.,  1.,  1.,  1.],\n",
       "       [ 1.,  1.,  1.,  1.,  1.,  0.,  1.,  1.,  1.,  0.,  0.,  0.,  1.,\n",
       "         0.,  1.,  1.,  1.],\n",
       "       [ 1.,  0.,  1.,  1.,  1.,  1.,  1.,  1.,  1.,  1.,  1.,  1.,  0.,\n",
       "         1.,  1.,  1.,  1.],\n",
       "       [ 1.,  1.,  1.,  1.,  1.,  1.,  1.,  1.,  1.,  1.,  1.,  1.,  1.,\n",
       "         1.,  1.,  1.,  1.],\n",
       "       [ 1.,  1.,  1.,  1.,  1.,  1.,  1.,  1.,  1.,  1.,  1.,  1.,  1.,\n",
       "         1.,  1.,  1.,  1.],\n",
       "       [ 1.,  1.,  1.,  1.,  1.,  1.,  1.,  1.,  1.,  1.,  1.,  1.,  1.,\n",
       "         1.,  1.,  1.,  1.]])"
      ]
     },
     "execution_count": 54,
     "metadata": {},
     "output_type": "execute_result"
    }
   ],
   "source": [
    "adj_mat"
   ]
  },
  {
   "cell_type": "code",
   "execution_count": null,
   "metadata": {
    "collapsed": true
   },
   "outputs": [],
   "source": []
  }
 ],
 "metadata": {
  "kernelspec": {
   "display_name": "Python [conda root]",
   "language": "python",
   "name": "conda-root-py"
  },
  "language_info": {
   "codemirror_mode": {
    "name": "ipython",
    "version": 3
   },
   "file_extension": ".py",
   "mimetype": "text/x-python",
   "name": "python",
   "nbconvert_exporter": "python",
   "pygments_lexer": "ipython3",
   "version": "3.5.3"
  }
 },
 "nbformat": 4,
 "nbformat_minor": 2
}
