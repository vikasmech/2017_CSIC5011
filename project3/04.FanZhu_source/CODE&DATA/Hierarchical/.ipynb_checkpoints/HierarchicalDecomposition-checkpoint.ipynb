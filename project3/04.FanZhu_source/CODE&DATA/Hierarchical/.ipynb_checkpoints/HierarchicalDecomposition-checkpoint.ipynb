{
 "cells": [
  {
   "cell_type": "code",
   "execution_count": 1,
   "metadata": {
    "collapsed": true
   },
   "outputs": [],
   "source": [
    "import numpy as np"
   ]
  },
  {
   "cell_type": "code",
   "execution_count": 2,
   "metadata": {
    "collapsed": true
   },
   "outputs": [],
   "source": [
    "import pickle\n",
    "all_data = pickle.load(open('Hakkaido_cleaned.p','rb'))\n",
    "# data"
   ]
  },
  {
   "cell_type": "code",
   "execution_count": 3,
   "metadata": {
    "scrolled": true
   },
   "outputs": [
    {
     "data": {
      "text/plain": [
       "dict_keys(['people', 'energy', 'city', 'adj_mat', 'graph'])"
      ]
     },
     "execution_count": 3,
     "metadata": {},
     "output_type": "execute_result"
    }
   ],
   "source": [
    "all_data.keys()"
   ]
  },
  {
   "cell_type": "code",
   "execution_count": 4,
   "metadata": {
    "collapsed": true
   },
   "outputs": [],
   "source": [
    "import numpy as np"
   ]
  },
  {
   "cell_type": "code",
   "execution_count": 5,
   "metadata": {
    "scrolled": true
   },
   "outputs": [
    {
     "name": "stdout",
     "output_type": "stream",
     "text": [
      "(17, 17)\n"
     ]
    }
   ],
   "source": [
    "adj_mat = all_data['adj_mat']\n",
    "N,_ = adj_mat.shape \n",
    "print(adj_mat.shape)"
   ]
  },
  {
   "cell_type": "code",
   "execution_count": 6,
   "metadata": {
    "scrolled": true
   },
   "outputs": [
    {
     "data": {
      "text/plain": [
       "array([-7.23993259, -6.53958596, -6.94119006, -5.3082677 , -7.69575799,\n",
       "       -3.98898405, -6.26149168, -7.16703788, -7.68662133, -6.228511  ,\n",
       "       -6.31173481, -4.4543473 , -4.91998093, -6.21060008, -5.90263333,\n",
       "       -3.61091791, -7.95366978])"
      ]
     },
     "execution_count": 6,
     "metadata": {},
     "output_type": "execute_result"
    }
   ],
   "source": [
    "energy = all_data['energy']\n",
    "city = all_data['city']\n",
    "energy"
   ]
  },
  {
   "cell_type": "code",
   "execution_count": 7,
   "metadata": {
    "scrolled": false
   },
   "outputs": [],
   "source": [
    "##Alternative energy function defined by degree \n",
    "##energy = -np.log(np.sum(adj_mat,axis=0)) + .01 * np.random.randn(17)\n",
    "##print(energy)"
   ]
  },
  {
   "cell_type": "code",
   "execution_count": 8,
   "metadata": {
    "collapsed": true
   },
   "outputs": [],
   "source": [
    "def search_critical_point(adj_mat, energy):\n",
    "    '''\n",
    "    Up to four layers \n",
    "        input:\n",
    "            adj_mat: (N, N) adjancy matrix\n",
    "            energy: (N,) numpyarray, energy on each nodes\n",
    "            color_list: a list of color of length #nodes\n",
    "        return:\n",
    "            local minimum Crt: list with Crt[i] as list of index_i nondegenerate critical point\n",
    "            Attraction Basin Attbsn: list with Attbsn[i] as a dictionary with \n",
    "                                     keys as nodes in Crt[i] and items as corresponding attraction basin\n",
    "            Boundery Bnd: list with Bnd[i] as list of blank point \n",
    "    '''\n",
    "    Crt = []; Attbsn = []; Bnd = [];\n",
    "    _,N = adj_mat.shape\n",
    "    Col = [-1] * N\n",
    "\n",
    "    node_sort = list(np.argsort(energy))\n",
    "    \n",
    "    for lyr in range(N+1):\n",
    "        print('LYR')\n",
    "        Crt.append([])\n",
    "        Attbsn.append({})\n",
    "        Bnd.append([])\n",
    "        node_sort_copy = node_sort.copy()\n",
    "         \n",
    "        for idx, nd in enumerate(node_sort):\n",
    "            global_neighbour_nd, = np.where(adj_mat[nd] != 0)\n",
    "            neighbour_nd = [node for node in global_neighbour_nd if node in node_sort]\n",
    "            low_neighbour_nd = []\n",
    "            \n",
    "            for idx2, nd2 in enumerate(neighbour_nd):\n",
    "                if energy[nd2] < energy[nd]:\n",
    "                    low_neighbour_nd.append(nd2)\n",
    "            ## if nd is a local minimum, i.e. nondegenerate index_lyr critical point\n",
    "            if low_neighbour_nd == []:\n",
    "                Crt[lyr].append(nd)\n",
    "                Attbsn[lyr][nd] = []\n",
    "                Col[nd] = nd\n",
    "                node_sort_copy.remove(nd)\n",
    "            ## if nd is a attraction basin of a nondengerate critical point\n",
    "            elif len(set(np.array(Col)[low_neighbour_nd])) == 1:\n",
    "                Col[nd] = Col[low_neighbour_nd[0]]\n",
    "                if Col[nd] != -1:\n",
    "                    Attbsn[lyr][Col[nd]].append(nd)\n",
    "                    node_sort_copy.remove(nd)\n",
    "                else:\n",
    "                    Bnd[lyr].append(nd)\n",
    "            ## if nd connects no less than two critical points\n",
    "            elif len(set(np.array(Col)[low_neighbour_nd])) > 1:\n",
    "                Bnd[lyr].append(nd)\n",
    "        \n",
    "        if node_sort_copy == []:\n",
    "            return Crt, Attbsn, Bnd, Col\n",
    "\n",
    "        node_sort = node_sort_copy"
   ]
  },
  {
   "cell_type": "code",
   "execution_count": 9,
   "metadata": {
    "scrolled": true
   },
   "outputs": [
    {
     "name": "stdout",
     "output_type": "stream",
     "text": [
      "LYR\n",
      "LYR\n"
     ]
    }
   ],
   "source": [
    "Crt, Attbsn, Bnd, Col = search_critical_point(adj_mat,energy)"
   ]
  },
  {
   "cell_type": "code",
   "execution_count": 10,
   "metadata": {
    "scrolled": true
   },
   "outputs": [
    {
     "name": "stdout",
     "output_type": "stream",
     "text": [
      "[[16, 8, 1], [0, 10]]\n",
      "['Hakodate', 'Asahikawa', 'Shiretoko']\n",
      "['Sapporo', 'Abashiri']\n"
     ]
    }
   ],
   "source": [
    "print(Crt)\n",
    "print([city[i] for i in Crt[0]])\n",
    "print([city[i] for i in Crt[1]])"
   ]
  },
  {
   "cell_type": "code",
   "execution_count": 11,
   "metadata": {
    "scrolled": true
   },
   "outputs": [
    {
     "name": "stdout",
     "output_type": "stream",
     "text": [
      "[{16: [4, 5], 8: [7, 13, 11], 1: [9, 12]}, {0: [2, 6, 14, 3, 15], 10: []}]\n"
     ]
    }
   ],
   "source": [
    "print(Attbsn)"
   ]
  },
  {
   "cell_type": "code",
   "execution_count": 12,
   "metadata": {},
   "outputs": [
    {
     "name": "stdout",
     "output_type": "stream",
     "text": [
      "[[0, 2, 10, 6, 14, 3, 15], []]\n"
     ]
    }
   ],
   "source": [
    "print(Bnd)"
   ]
  },
  {
   "cell_type": "code",
   "execution_count": 13,
   "metadata": {
    "scrolled": true
   },
   "outputs": [
    {
     "name": "stdout",
     "output_type": "stream",
     "text": [
      "[0, 1, 0, 0, 16, 16, 0, 8, 8, 1, 10, 8, 1, 8, 0, 0, 16]\n"
     ]
    }
   ],
   "source": [
    "print(Col)"
   ]
  },
  {
   "cell_type": "markdown",
   "metadata": {},
   "source": [
    "## Graph Force Layout"
   ]
  },
  {
   "cell_type": "code",
   "execution_count": 14,
   "metadata": {
    "scrolled": true
   },
   "outputs": [
    {
     "name": "stdout",
     "output_type": "stream",
     "text": [
      "[ 10.   6.   2.   2.   2.   2.   2.   2.   6.   2.  10.   2.   2.   2.   2.\n",
      "   2.   6.]\n"
     ]
    }
   ],
   "source": [
    "ColDic = {16:'green',8:'brown',1:'blue',0:'red',10:'pink'}\n",
    "Radius = np.ones(N) * 2\n",
    "Radius[Crt[0]] = 6\n",
    "Radius[Crt[1]] = 10\n",
    "print(Radius)"
   ]
  },
  {
   "cell_type": "code",
   "execution_count": 15,
   "metadata": {
    "collapsed": true
   },
   "outputs": [],
   "source": [
    "graph = all_data['graph']"
   ]
  },
  {
   "cell_type": "code",
   "execution_count": 16,
   "metadata": {
    "collapsed": true,
    "scrolled": true
   },
   "outputs": [],
   "source": [
    "for idx,a in enumerate(all_data['graph']['nodes']):\n",
    "    a['group'] = ColDic[Col[idx]]\n",
    "    a['radius'] = Radius[idx]"
   ]
  },
  {
   "cell_type": "code",
   "execution_count": 19,
   "metadata": {
    "scrolled": true
   },
   "outputs": [
    {
     "data": {
      "text/plain": [
       "[{'source': 'Noboribetsu', 'target': 'Sapporo', 'value': 1},\n",
       " {'source': 'Muroran', 'target': 'Noboribetsu', 'value': 1},\n",
       " {'source': 'Sapporo', 'target': 'Otaru', 'value': 1},\n",
       " {'source': 'Noboribetsu', 'target': 'Otaru', 'value': 1},\n",
       " {'source': 'Muroran', 'target': 'Otaru', 'value': 1},\n",
       " {'source': 'Furano', 'target': 'Sapporo', 'value': 1},\n",
       " {'source': 'Furano', 'target': 'Noboribetsu', 'value': 1},\n",
       " {'source': 'Furano', 'target': 'Biei', 'value': 1},\n",
       " {'source': 'Sapporo', 'target': 'Asahikawa', 'value': 1},\n",
       " {'source': 'Noboribetsu', 'target': 'Asahikawa', 'value': 1},\n",
       " {'source': 'Biei', 'target': 'Asahikawa', 'value': 1},\n",
       " {'source': 'Kushiro', 'target': 'Shiretoko', 'value': 1},\n",
       " {'source': 'Abashiri', 'target': 'Shiretoko', 'value': 1},\n",
       " {'source': 'Abashiri', 'target': 'Asahikawa', 'value': 1},\n",
       " {'source': 'Monbetsu', 'target': 'Asahikawa', 'value': 1},\n",
       " {'source': 'Numuro', 'target': 'Kushiro', 'value': 1},\n",
       " {'source': 'Wakkanai', 'target': 'Asahikawa', 'value': 1},\n",
       " {'source': 'Obihiro', 'target': 'Sapporo', 'value': 1},\n",
       " {'source': 'Obihiro', 'target': 'Noboribetsu', 'value': 1},\n",
       " {'source': 'Obihiro', 'target': 'Furano', 'value': 1},\n",
       " {'source': 'Obihiro', 'target': 'Kushiro', 'value': 1},\n",
       " {'source': 'Rumoi', 'target': 'Sapporo', 'value': 1},\n",
       " {'source': 'Rumoi', 'target': 'Furano', 'value': 1},\n",
       " {'source': 'Rumoi', 'target': 'Asahikawa', 'value': 1},\n",
       " {'source': 'Sapporo', 'target': 'Hakodate', 'value': 1},\n",
       " {'source': 'Noboribetsu', 'target': 'Hakodate', 'value': 1},\n",
       " {'source': 'Muroran', 'target': 'Hakodate', 'value': 1},\n",
       " {'source': 'Otaru', 'target': 'Hakodate', 'value': 1},\n",
       " {'source': 'Esashi', 'target': 'Hakodate', 'value': 1}]"
      ]
     },
     "execution_count": 19,
     "metadata": {},
     "output_type": "execute_result"
    }
   ],
   "source": [
    "graph['links']"
   ]
  },
  {
   "cell_type": "code",
   "execution_count": 18,
   "metadata": {},
   "outputs": [
    {
     "name": "stdout",
     "output_type": "stream",
     "text": [
      "{'group': 'red', 'radius': 10.0, 'id': 'Sapporo'}\n",
      "{'group': 'blue', 'radius': 6.0, 'id': 'Shiretoko'}\n",
      "{'group': 'red', 'radius': 2.0, 'id': 'Noboribetsu'}\n",
      "{'group': 'red', 'radius': 2.0, 'id': 'Muroran'}\n",
      "{'group': 'green', 'radius': 2.0, 'id': 'Otaru'}\n",
      "{'group': 'green', 'radius': 2.0, 'id': 'Esashi'}\n",
      "{'group': 'red', 'radius': 2.0, 'id': 'Furano'}\n",
      "{'group': 'brown', 'radius': 2.0, 'id': 'Biei'}\n",
      "{'group': 'brown', 'radius': 6.0, 'id': 'Asahikawa'}\n",
      "{'group': 'blue', 'radius': 2.0, 'id': 'Kushiro'}\n",
      "{'group': 'pink', 'radius': 10.0, 'id': 'Abashiri'}\n",
      "{'group': 'brown', 'radius': 2.0, 'id': 'Monbetsu'}\n",
      "{'group': 'blue', 'radius': 2.0, 'id': 'Numuro'}\n",
      "{'group': 'brown', 'radius': 2.0, 'id': 'Wakkanai'}\n",
      "{'group': 'red', 'radius': 2.0, 'id': 'Obihiro'}\n",
      "{'group': 'red', 'radius': 2.0, 'id': 'Rumoi'}\n",
      "{'group': 'green', 'radius': 6.0, 'id': 'Hakodate'}\n"
     ]
    }
   ],
   "source": [
    "for idx,a in enumerate(all_data['graph']['nodes']):\n",
    "    print(a)"
   ]
  },
  {
   "cell_type": "code",
   "execution_count": 20,
   "metadata": {
    "collapsed": true
   },
   "outputs": [],
   "source": [
    "import json\n",
    "with open('Hierarchicle.json','w') as outfile:\n",
    "    json.dump(all_data['graph'], outfile)"
   ]
  },
  {
   "cell_type": "code",
   "execution_count": null,
   "metadata": {
    "collapsed": true
   },
   "outputs": [],
   "source": []
  }
 ],
 "metadata": {
  "kernelspec": {
   "display_name": "Python [default]",
   "language": "python",
   "name": "python3"
  },
  "language_info": {
   "codemirror_mode": {
    "name": "ipython",
    "version": 3
   },
   "file_extension": ".py",
   "mimetype": "text/x-python",
   "name": "python",
   "nbconvert_exporter": "python",
   "pygments_lexer": "ipython3",
   "version": "3.5.3"
  }
 },
 "nbformat": 4,
 "nbformat_minor": 2
}
