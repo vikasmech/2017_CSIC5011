{
 "cells": [
  {
   "cell_type": "markdown",
   "metadata": {},
   "source": [
    "# Final Project of CSIC 5011\n",
    "by Richard Li Yan Chak, HKUST"
   ]
  },
  {
   "cell_type": "code",
   "execution_count": null,
   "metadata": {
    "collapsed": true
   },
   "outputs": [],
   "source": [
    "import csv\n",
    "import numpy as np\n",
    "import sys\n",
    "import os, fnmatch\n",
    "import matplotlib.pyplot as plt\n",
    "import cv2\n",
    "import math\n",
    "from scipy import signal\n",
    "from sklearn import (manifold, datasets, decomposition, ensemble,\n",
    "                     discriminant_analysis, random_projection)"
   ]
  },
  {
   "cell_type": "markdown",
   "metadata": {},
   "source": [
    "Import Library"
   ]
  },
  {
   "cell_type": "code",
   "execution_count": null,
   "metadata": {
    "collapsed": true
   },
   "outputs": [],
   "source": [
    "def find(pattern, path):\n",
    "    result = []\n",
    "    for root, dirs, files in os.walk(path):\n",
    "        for name in files:\n",
    "            if fnmatch.fnmatch(name, pattern):\n",
    "                result.append(os.path.join(root, name))\n",
    "    return result\n"
   ]
  },
  {
   "cell_type": "markdown",
   "metadata": {},
   "source": [
    "Function to find files"
   ]
  },
  {
   "cell_type": "code",
   "execution_count": null,
   "metadata": {
    "collapsed": true
   },
   "outputs": [],
   "source": [
    "def readLabelCSV(csvFile):\n",
    "    csvList = []\n",
    "    with open(csvFile, 'r') as csvin:\n",
    "        csvreader = csv.reader(csvin, delimiter=',')\n",
    "        for line in csvreader:\n",
    "            floatline = []\n",
    "            for idx, item in enumerate(line):\n",
    "                try:\n",
    "                    floatline.append(int(item))\n",
    "                except ValueError:\n",
    "                    a = 0\n",
    "            csvList.append(floatline)\n",
    "    return np.array(csvList[0])"
   ]
  },
  {
   "cell_type": "markdown",
   "metadata": {},
   "source": [
    "Function for read the label.csv"
   ]
  },
  {
   "cell_type": "code",
   "execution_count": null,
   "metadata": {
    "collapsed": true
   },
   "outputs": [],
   "source": [
    "def plot_embedding(X, imgFileName, title=None):\n",
    "    x_min, x_max = np.min(X, 0), np.max(X, 0)\n",
    "    X = (X - x_min) / (x_max - x_min)\n",
    "    plt.clf()\n",
    "    plt.figure()\n",
    "    ax = plt.subplot(111)\n",
    "    for i in range(X.shape[0]):\n",
    "        plt.text(X[i, 0], X[i, 1], labelMeaning[label[i]+1],\n",
    "                 color=plt.cm.tab10((label[i]+1)/3.),\n",
    "                 fontdict={'weight': 'bold', 'size': 9})\n",
    "    #\n",
    "    # if hasattr(offsetbox, 'AnnotationBbox'):\n",
    "    #     # only print thumbnails with matplotlib > 1.0\n",
    "    #     shown_images = np.array([[1., 1.]])  # just something big\n",
    "    #     for i in range(digits.data.shape[0]):\n",
    "    #         dist = np.sum((X[i] - shown_images) ** 2, 1)\n",
    "    #         if np.min(dist) < 4e-3:\n",
    "    #             # don't show points that are too close\n",
    "    #             continue\n",
    "    #         shown_images = np.r_[shown_images, [X[i]]]\n",
    "    #         imagebox = offsetbox.AnnotationBbox(\n",
    "    #             offsetbox.OffsetImage(digitImg[i], cmap=plt.cm.gray_r),\n",
    "    #             X[i])\n",
    "    #         ax.add_artist(imagebox)\n",
    "    plt.xticks([]), plt.yticks([])\n",
    "    if title is not None:\n",
    "        plt.title(title)\n",
    "    plt.savefig(imgFileName)"
   ]
  },
  {
   "cell_type": "markdown",
   "metadata": {},
   "source": [
    "Function to plot 2d graph of different manifold learning result"
   ]
  },
  {
   "cell_type": "code",
   "execution_count": null,
   "metadata": {
    "collapsed": true
   },
   "outputs": [],
   "source": [
    "imgNumberList = range(1,29)\n",
    "print imgNumberList\n",
    "imgList = []\n",
    "\n",
    "for i in imgNumberList:\n",
    "    imgName = find(str(i)+'.*', './')[0]\n",
    "    img = cv2.imread(imgName)\n",
    "    grayImg = cv2.cvtColor(img, cv2.COLOR_BGR2GRAY)\n",
    "    imgList.append(grayImg)\n"
   ]
  },
  {
   "cell_type": "markdown",
   "metadata": {},
   "source": [
    "read images named with '1.tif', '2.tif'...."
   ]
  },
  {
   "cell_type": "code",
   "execution_count": null,
   "metadata": {
    "collapsed": true
   },
   "outputs": [],
   "source": [
    "convHistList_of_ImgList = []\n",
    "label = readLabelCSV('label.csv')\n",
    "labelMeaning = [\"R'\", 'R?', 'R!']\n",
    "rfilterImgHistFile = find('convHist.csv','./')"
   ]
  },
  {
   "cell_type": "markdown",
   "metadata": {},
   "source": [
    "Read 'label.csv' and 'convHist.csv'(if there is)\n",
    "R' = -1 (not Raphael)\n",
    "R? = 0 (Dunno if it was Raphael' work)\n",
    "R! = 1 (Raphael's work)"
   ]
  },
  {
   "cell_type": "code",
   "execution_count": null,
   "metadata": {
    "collapsed": true
   },
   "outputs": [],
   "source": [
    "if len(rfilterImgHistFile) == 0:\n",
    "\n",
    "    #                           0th\n",
    "    raymondFilter = np.array([[[1,2,1],\n",
    "                               [2,4,2],\n",
    "                               [1,2,1]],\n",
    "                              # 1nd\n",
    "                              [[1,0,-1],\n",
    "                               [2,0,-2],\n",
    "                               [1,0,-1]],\n",
    "                              # 2th\n",
    "                              [[1,2,1],\n",
    "                               [0,0,0],\n",
    "                               [-1,-2,-1]],\n",
    "                              # 3rd\n",
    "                              [[1,1,0],\n",
    "                               [1,0,-1],\n",
    "                               [0,-1,-1]],\n",
    "                              # 4th\n",
    "                              [[0,1,1],\n",
    "                               [-1,0,1],\n",
    "                               [-1,-1,0]],\n",
    "                              # 5th\n",
    "                              [[1,0,-1],\n",
    "                               [0,0,0],\n",
    "                               [-1,-2,-1]],\n",
    "                              # 6th\n",
    "                              [[-1,2,-1],\n",
    "                               [-2,4,-2],\n",
    "                               [-1,2,-1]],\n",
    "                              # 7th\n",
    "                              [[-1,-2,-1],\n",
    "                               [2,4,2],\n",
    "                               [-1,-2,-1]],\n",
    "                              # 8th\n",
    "                              [[0,0,-1],\n",
    "                               [0,2,0],\n",
    "                               [-1,0,0]],\n",
    "                              # 9th\n",
    "                              [[-1,0,0],\n",
    "                               [0,2,0],\n",
    "                               [0,0,-1]],\n",
    "                              # 10th\n",
    "                              [[0,1,0],\n",
    "                               [-1,0,-1],\n",
    "                               [0,1,0]],\n",
    "                              # 11th\n",
    "                              [[-1,0,1],\n",
    "                               [2,0,-2],\n",
    "                               [-1,0,1]],\n",
    "                              # 12th\n",
    "                              [[-1,2,-1],\n",
    "                               [0,0,0],\n",
    "                               [1,-2,1]],\n",
    "                              # 13th\n",
    "                              [[1,-2,1],\n",
    "                               [-2,4,-2],\n",
    "                               [1,-2,1]],\n",
    "                              # 14th\n",
    "                              [[0,0,0],\n",
    "                               [-1,2,-1],\n",
    "                               [0,0,0]],\n",
    "                              # 15th\n",
    "                              [[-1,2,-1],\n",
    "                               [0,0,0],\n",
    "                               [-1,2,-1]],\n",
    "                              # 16th\n",
    "                              [[0,-1,0],\n",
    "                               [0,2,0],\n",
    "                               [0,-1,0]],\n",
    "                              # 17th\n",
    "                              [[-1,0,-1],\n",
    "                               [2,0,2],\n",
    "                               [-1,0,-1]]\n",
    "                              ]).astype('float')\n",
    "\n",
    "    print raymondFilter\n",
    "    raymondFilterFactor = np.array([1.0/16, 1.0/16, 1.0/16, np.sqrt(2)/16, np.sqrt(2)/16, np.sqrt(7)/24,\n",
    "                           1.0/48, 1.0/48, 1.0/12, 1.0/12, np.sqrt(2)/12, np.sqrt(2)/16,\n",
    "                           np.sqrt(2)/16, 1.0/48, np.sqrt(2)/12, np.sqrt(2)/24, np.sqrt(2)/12, np.sqrt(2)/24])\n",
    "\n",
    "    # print raymondFilterFactor\n",
    "    raymondFilterNormalized = []\n",
    "    for idx, rfilter in enumerate(raymondFilter):\n",
    "        raymondFilterNormalized.append(rfilter*raymondFilterFactor[idx])\n",
    "\n",
    "    raymondFilterNormalized = np.array(raymondFilterNormalized)\n",
    "    print raymondFilterNormalized.shape\n",
    "\n",
    "    randomizedFilter = np.array(raymondFilter.shape)\n",
    "\n",
    "    maxOfImage = 0\n",
    "    minOfImage = 0\n",
    "\n",
    "    for idx, grayImg in enumerate(imgList):\n",
    "        convHistList = np.empty((0))\n",
    "        print idx\n",
    "        for filterID, rfilter in enumerate(raymondFilterNormalized):\n",
    "            convImg = signal.convolve2d(grayImg, rfilter, boundary='symm', mode='same')\n",
    "            if filterID == 1:\n",
    "                plt.clf()\n",
    "                plt.imshow(convImg)\n",
    "                plt.savefig('test'+str(i)+'.png')\n",
    "            convImgHist, binRange = np.histogram(convImg.ravel(), bins=(np.array(range(512))-256), density=True)\n",
    "            if max(convImg.ravel()) > maxOfImage:\n",
    "                maxOfImage = max(convImg.ravel())\n",
    "            if min(convImg.ravel()) < minOfImage:\n",
    "                minOfImage = min(convImg.ravel())\n",
    "            convHistList = np.append(convHistList, convImgHist)\n",
    "        print maxOfImage\n",
    "        print minOfImage\n",
    "        convHistList_of_ImgList.append(convHistList)\n",
    "\n",
    "    convHistList_of_ImgList = np.array(convHistList_of_ImgList)\n",
    "\n",
    "    print convHistList_of_ImgList\n",
    "\n",
    "    np.savetxt('convHist.csv', convHistList_of_ImgList, delimiter=',')\n",
    "else:\n",
    "    convHistList_of_ImgList = np.loadtxt('convHist.csv', delimiter=',')\n"
   ]
  },
  {
   "cell_type": "markdown",
   "metadata": {},
   "source": [
    "if file'convHist.csv' doesnt exist, then construct the histogram of 18 convolution kernel of each images.\n",
    "else, directly read the histogram of each image."
   ]
  },
  {
   "cell_type": "code",
   "execution_count": null,
   "metadata": {
    "collapsed": true
   },
   "outputs": [],
   "source": [
    "n_neighbors = 2\n",
    "n_components = 3\n",
    "recall = 0\n",
    "\n",
    "paintingsne = manifold.TSNE(n_components=2)\n",
    "xPaintingsne = paintingsne.fit_transform(convHistList_of_ImgList)\n",
    "\n",
    "\n",
    "isoMap = manifold.Isomap(n_neighbors, n_components)\n",
    "xIsomap = isoMap.fit_transform(convHistList_of_ImgList)\n",
    "\n",
    "se = manifold.SpectralEmbedding(n_components=n_components,\n",
    "                                    n_neighbors=n_neighbors)\n",
    "xSE = se.fit_transform(convHistList_of_ImgList)\n",
    "\n",
    "\n",
    "plot_embedding(xPaintingsne, 'tSNE_convHist_paint.png', title='t-SNE of painting with convHist')\n",
    "plot_embedding(xIsomap, 'isomap_convHist_paint.png', title='ISOMAP of painting with convHist')\n",
    "plot_embedding(xSE, 'spectralEmbedding_convHist_paint.png', title='Spectral Embedding of painting with convHist')"
   ]
  },
  {
   "cell_type": "markdown",
   "metadata": {},
   "source": [
    "Plot the 2d graph of each manifold learning method."
   ]
  }
 ],
 "metadata": {
  "kernelspec": {
   "display_name": "Python 2",
   "language": "python",
   "name": "python2"
  },
  "language_info": {
   "codemirror_mode": {
    "name": "ipython",
    "version": 2
   },
   "file_extension": ".py",
   "mimetype": "text/x-python",
   "name": "python",
   "nbconvert_exporter": "python",
   "pygments_lexer": "ipython2",
   "version": "2.7.13"
  }
 },
 "nbformat": 4,
 "nbformat_minor": 2
}
