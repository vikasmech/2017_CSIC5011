{
 "cells": [
  {
   "cell_type": "code",
   "execution_count": null,
   "metadata": {
    "collapsed": false,
    "scrolled": false
   },
   "outputs": [],
   "source": [
    "#Removing the NAN and SNPs that have all same value throughout the samples\n",
    "\n",
    "\n",
    "import pandas as pd\n",
    "AAA = pd.read_csv('/Users/USER/Dropbox/Kevin_14skippping/COMP/HGDP_SNP_stat.txt', sep=\"\\t\")\n",
    "\n",
    "#select ones that do not have missing values\n",
    "AAA= AAA[AAA[\"MS\"] == 0]\n",
    "\n",
    "#select ones that have 2 zeros (will later remove from AAA)\n",
    "TTA = AAA.loc[(AAA[\"AA\"] == 0)& (AAA[\"AC\"] == 0)]\n",
    "TTAlist=TTA.index.tolist()\n",
    "TTB = AAA.loc[(AAA[\"AA\"] == 0)& (AAA[\"CC\"] == 0)]\n",
    "TTBlist=TTB.index.tolist()\n",
    "TTC = AAA.loc[(AAA[\"AC\"] == 0)& (AAA[\"CC\"] == 0)]\n",
    "TTClist=TTC.index.tolist()\n",
    "\n",
    "#combine all 2zeros list\n",
    "A = set(TTAlist).union(set(TTBlist))\n",
    "combined = set(TTClist).union(set(A))\n",
    "\n",
    "#remove from AAA\n",
    "AAA= AAA.drop(combined)\n",
    "IDS=AAA.index.tolist()\n",
    "\n",
    "#SNPs data\n",
    "SNP = pd.read_csv('/Users/USER/Dropbox/Kevin_14skippping/COMP/HGDP_SNP_0129.txt', sep=\"\\t\")\n",
    "SNP = SNP.set_index(\"Unnamed: 0\")\n",
    "#Selecct only non-NAN and non-2 zero ones.\n",
    "SNP_1 = SNP.reindex(IDS)\n",
    "\n"
   ]
  },
  {
   "cell_type": "code",
   "execution_count": null,
   "metadata": {
    "collapsed": false,
    "scrolled": true
   },
   "outputs": [],
   "source": [
    "#Samples with annotated regions\n",
    "data = pd.read_csv('/Users/USER/Dropbox/Kevin_14skippping/COMP/SampleAnnotation_revised.txt', sep=\"\\t\")\n",
    "\n",
    "####################7regions\n",
    "\n",
    "dfList = SNP_1.columns.tolist()\n",
    "#Get only the ID in SNP_1 from Region data\n",
    "Need = data.loc[data['ID'].isin(dfList),[\"ID\", \"region\"]]\n",
    "#divide the ID into 7 groups\n",
    "America = list(Need.loc[(Need.iloc[:,1] == \"America\"),\"ID\"])\n",
    "Africa = list(Need.loc[(Need.iloc[:,1] == \"Africa\"),\"ID\"])\n",
    "East_Asia = list(Need.loc[(Need.iloc[:,1] == \"East Asia\"),\"ID\"])\n",
    "Middle_East = list(Need.loc[(Need.iloc[:,1] == \"Middle East\"),\"ID\"])\n",
    "Europe = list(Need.loc[(Need.iloc[:,1] == \"Europe\"),\"ID\"])\n",
    "Central_South_Asia = list(Need.loc[(Need.iloc[:,1] == \"Central/South Asia\"),\"ID\"])\n",
    "Oceania = list(Need.loc[(Need.iloc[:,1] == \"Oceania\"),\"ID\"])\n"
   ]
  },
  {
   "cell_type": "code",
   "execution_count": null,
   "metadata": {
    "collapsed": true
   },
   "outputs": [],
   "source": [
    "#one way ANOVA\n",
    "import scipy.stats as stats\n",
    "\n",
    "file = open(\"/Users/USER/Dropbox/Kevin_14skippping/COMP/171003_ANOVA_7region.csv\",\"w\")\n",
    "file.write(\"SNP,\")\n",
    "file.write(\"F_statistic,\")\n",
    "file.write(\"p_value,\")\n",
    "file.write(\"\\n\")\n",
    "for eachSNP in SNP_1.index:\n",
    "    stat, pval = stats.f_oneway(SNP.loc[eachSNP,America],\n",
    "                               SNP.loc[eachSNP,Africa],\n",
    "                               SNP.loc[eachSNP,East_Asia],\n",
    "                               SNP.loc[eachSNP,Middle_East],\n",
    "                               SNP.loc[eachSNP,Oceania],\n",
    "                               SNP.loc[eachSNP,Europe],\n",
    "                               SNP.loc[eachSNP,Central_South_Asia])\n",
    "    file.write(eachSNP+\",\")\n",
    "    file.write(str(stat)+\",\")\n",
    "    file.write(str(pval)+\",\")\n",
    "    file.write(\"\\n\")\n",
    "    \n",
    "file.close()"
   ]
  }
 ],
 "metadata": {
  "kernelspec": {
   "display_name": "Python 3",
   "language": "python",
   "name": "python3"
  },
  "language_info": {
   "codemirror_mode": {
    "name": "ipython",
    "version": 3
   },
   "file_extension": ".py",
   "mimetype": "text/x-python",
   "name": "python",
   "nbconvert_exporter": "python",
   "pygments_lexer": "ipython3",
   "version": "3.6.0"
  }
 },
 "nbformat": 4,
 "nbformat_minor": 2
}
